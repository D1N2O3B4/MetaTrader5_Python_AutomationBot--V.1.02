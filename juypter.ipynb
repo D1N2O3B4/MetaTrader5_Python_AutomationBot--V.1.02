{
 "cells": [
  {
   "cell_type": "code",
   "execution_count": 9,
   "metadata": {},
   "outputs": [],
   "source": [
    "#Dependecies\n",
    "# import sys\n",
    "# !{sys.executable}-m pip install ta --user\n",
    "# !{sys.executable}-m pip install datetime --user\n",
    "# !{sys.executable}-m pip install MetaTrader5 --user"
   ]
  },
  {
   "cell_type": "code",
   "execution_count": 10,
   "metadata": {},
   "outputs": [],
   "source": [
    "import MetaTrader5 as mt5\n",
    "from datetime import datetime\n",
    "import pandas as pd\n",
    "import numpy as np\n",
    "import pytz"
   ]
  },
  {
   "cell_type": "code",
   "execution_count": 11,
   "metadata": {},
   "outputs": [
    {
     "data": {
      "text/plain": [
       "(-10004, 'No IPC connection')"
      ]
     },
     "execution_count": 11,
     "metadata": {},
     "output_type": "execute_result"
    }
   ],
   "source": [
    "mt5.last_error()\n"
   ]
  },
  {
   "cell_type": "code",
   "execution_count": 12,
   "metadata": {},
   "outputs": [
    {
     "data": {
      "text/plain": [
       "True"
      ]
     },
     "execution_count": 12,
     "metadata": {},
     "output_type": "execute_result"
    }
   ],
   "source": [
    "mt5.initialize()"
   ]
  },
  {
   "attachments": {},
   "cell_type": "markdown",
   "metadata": {},
   "source": [
    "EXTRACT ACCOUNT INFO"
   ]
  },
  {
   "cell_type": "code",
   "execution_count": 13,
   "metadata": {},
   "outputs": [
    {
     "data": {
      "text/plain": [
       "AccountInfo(login=72446035, trade_mode=0, leverage=100, limit_orders=200, margin_so_mode=0, trade_allowed=True, trade_expert=True, margin_mode=2, currency_digits=2, fifo_close=False, balance=9998.4, credit=0.0, profit=-1.3599999999999999, equity=9997.04, margin=109.84, margin_free=9887.2, margin_level=9101.456664238893, margin_so_call=50.0, margin_so_so=30.0, margin_initial=0.0, margin_maintenance=0.0, assets=0.0, liabilities=0.0, commission_blocked=0.0, name='MetaTrader 5 Desktop Demo', server='MetaQuotes-Demo', currency='USD', company='MetaQuotes Software Corp.')"
      ]
     },
     "execution_count": 13,
     "metadata": {},
     "output_type": "execute_result"
    }
   ],
   "source": [
    "# mt5.shutdown()\n",
    "mt5.account_info()"
   ]
  },
  {
   "cell_type": "code",
   "execution_count": 14,
   "metadata": {},
   "outputs": [
    {
     "data": {
      "text/plain": [
       "9998.4"
      ]
     },
     "execution_count": 14,
     "metadata": {},
     "output_type": "execute_result"
    }
   ],
   "source": [
    "info = mt5.account_info()\n",
    "info.balance"
   ]
  },
  {
   "attachments": {},
   "cell_type": "markdown",
   "metadata": {},
   "source": [
    "EXTRACT SYMBOL INFO"
   ]
  },
  {
   "cell_type": "code",
   "execution_count": 15,
   "metadata": {},
   "outputs": [
    {
     "data": {
      "text/plain": [
       "SymbolInfo(custom=False, chart_mode=0, select=True, visible=True, session_deals=0, session_buy_orders=0, session_sell_orders=0, volume=0, volumehigh=0, volumelow=0, time=1691798331, digits=5, spread=41, spread_float=True, ticks_bookdepth=10, trade_calc_mode=0, trade_mode=4, start_time=0, expiration_time=0, trade_stops_level=0, trade_freeze_level=0, trade_exemode=1, swap_mode=1, swap_rollover3days=3, margin_hedged_use_leg=False, expiration_mode=15, filling_mode=1, order_mode=127, order_gtc_mode=0, option_mode=0, option_right=0, bid=1.09451, bidhigh=1.10049, bidlow=1.0943100000000001, ask=1.0949200000000001, askhigh=1.10053, asklow=1.0943100000000001, last=0.0, lasthigh=0.0, lastlow=0.0, volume_real=0.0, volumehigh_real=0.0, volumelow_real=0.0, option_strike=0.0, point=1e-05, trade_tick_value=1.0, trade_tick_value_profit=1.0, trade_tick_value_loss=1.0, trade_tick_size=1e-05, trade_contract_size=100000.0, trade_accrued_interest=0.0, trade_face_value=0.0, trade_liquidity_rate=0.0, volume_min=0.01, volume_max=500.0, volume_step=0.01, volume_limit=0.0, swap_long=-0.7, swap_short=-1.0, margin_initial=0.0, margin_maintenance=0.0, session_volume=0.0, session_turnover=0.0, session_interest=0.0, session_buy_orders_volume=0.0, session_sell_orders_volume=0.0, session_open=1.09808, session_close=1.09792, session_aw=0.0, session_price_settlement=0.0, session_price_limit_min=0.0, session_price_limit_max=0.0, margin_hedged=100000.0, price_change=-0.3106, price_volatility=0.0, price_theoretical=0.0, price_greeks_delta=0.0, price_greeks_theta=0.0, price_greeks_gamma=0.0, price_greeks_vega=0.0, price_greeks_rho=0.0, price_greeks_omega=0.0, price_sensitivity=0.0, basis='', category='', currency_base='EUR', currency_profit='USD', currency_margin='EUR', bank='', description='Euro vs US Dollar', exchange='', formula='', isin='', name='EURUSD', page='https://www.mql5.com/en/quotes/currencies/eurusd', path='Forex\\\\EURUSD')"
      ]
     },
     "execution_count": 15,
     "metadata": {},
     "output_type": "execute_result"
    }
   ],
   "source": [
    "\"\"\"\"SYMBOL INFO\"\"\"\n",
    "mt5.symbol_info(\"EURUSD\")\n"
   ]
  },
  {
   "cell_type": "code",
   "execution_count": 16,
   "metadata": {},
   "outputs": [
    {
     "data": {
      "text/plain": [
       "1.09451"
      ]
     },
     "execution_count": 16,
     "metadata": {},
     "output_type": "execute_result"
    }
   ],
   "source": [
    "symbol = mt5.symbol_info(\"EURUSD\")\n",
    "symbol.bid\n"
   ]
  },
  {
   "cell_type": "code",
   "execution_count": 17,
   "metadata": {},
   "outputs": [
    {
     "data": {
      "text/plain": [
       "1.0949200000000001"
      ]
     },
     "execution_count": 17,
     "metadata": {},
     "output_type": "execute_result"
    }
   ],
   "source": [
    "symbol.ask"
   ]
  },
  {
   "cell_type": "code",
   "execution_count": 18,
   "metadata": {},
   "outputs": [
    {
     "data": {
      "text/plain": [
       "41"
      ]
     },
     "execution_count": 18,
     "metadata": {},
     "output_type": "execute_result"
    }
   ],
   "source": [
    "symbol.spread"
   ]
  },
  {
   "attachments": {},
   "cell_type": "markdown",
   "metadata": {},
   "source": [
    "EXTRACT BOOK ORDERS"
   ]
  },
  {
   "cell_type": "code",
   "execution_count": 19,
   "metadata": {},
   "outputs": [
    {
     "data": {
      "text/plain": [
       "True"
      ]
     },
     "execution_count": 19,
     "metadata": {},
     "output_type": "execute_result"
    }
   ],
   "source": [
    "# To add a book order\n",
    "mt5.market_book_add(\"EURUSD\")"
   ]
  },
  {
   "cell_type": "code",
   "execution_count": 20,
   "metadata": {},
   "outputs": [
    {
     "data": {
      "text/plain": [
       "()"
      ]
     },
     "execution_count": 20,
     "metadata": {},
     "output_type": "execute_result"
    }
   ],
   "source": [
    "#To get a book order\n",
    "mt5.market_book_get(\"EURUSD\")"
   ]
  },
  {
   "cell_type": "code",
   "execution_count": 21,
   "metadata": {},
   "outputs": [
    {
     "data": {
      "text/plain": [
       "True"
      ]
     },
     "execution_count": 21,
     "metadata": {},
     "output_type": "execute_result"
    }
   ],
   "source": [
    "#To close book order connection\n",
    "mt5.market_book_release(\"EURUSD\")"
   ]
  },
  {
   "attachments": {},
   "cell_type": "markdown",
   "metadata": {},
   "source": [
    "ADD SYMBOL(e.g:\"EURUSD,USDJPY etc\") TO MARKET WATCH"
   ]
  },
  {
   "cell_type": "code",
   "execution_count": 22,
   "metadata": {},
   "outputs": [
    {
     "data": {
      "text/plain": [
       "True"
      ]
     },
     "execution_count": 22,
     "metadata": {},
     "output_type": "execute_result"
    }
   ],
   "source": [
    "#Add symbol to market watch\n",
    "mt5.symbol_select(\"SP500m\")\n"
   ]
  },
  {
   "attachments": {},
   "cell_type": "markdown",
   "metadata": {},
   "source": [
    "IMPORT TICK DATA"
   ]
  },
  {
   "cell_type": "code",
   "execution_count": 23,
   "metadata": {},
   "outputs": [
    {
     "data": {
      "text/plain": [
       "True"
      ]
     },
     "execution_count": 23,
     "metadata": {},
     "output_type": "execute_result"
    }
   ],
   "source": [
    "#I think we would have to intialize the function again\n",
    "mt5.initialize()"
   ]
  },
  {
   "cell_type": "code",
   "execution_count": 24,
   "metadata": {},
   "outputs": [
    {
     "data": {
      "text/html": [
       "<div>\n",
       "<style scoped>\n",
       "    .dataframe tbody tr th:only-of-type {\n",
       "        vertical-align: middle;\n",
       "    }\n",
       "\n",
       "    .dataframe tbody tr th {\n",
       "        vertical-align: top;\n",
       "    }\n",
       "\n",
       "    .dataframe thead th {\n",
       "        text-align: right;\n",
       "    }\n",
       "</style>\n",
       "<table border=\"1\" class=\"dataframe\">\n",
       "  <thead>\n",
       "    <tr style=\"text-align: right;\">\n",
       "      <th></th>\n",
       "      <th>time</th>\n",
       "      <th>bid</th>\n",
       "      <th>ask</th>\n",
       "      <th>last</th>\n",
       "      <th>volume</th>\n",
       "      <th>time_msc</th>\n",
       "      <th>flags</th>\n",
       "      <th>volume_real</th>\n",
       "    </tr>\n",
       "  </thead>\n",
       "  <tbody>\n",
       "    <tr>\n",
       "      <th>0</th>\n",
       "      <td>2023-06-30 23:00:00</td>\n",
       "      <td>1.09127</td>\n",
       "      <td>1.09132</td>\n",
       "      <td>0.0</td>\n",
       "      <td>0</td>\n",
       "      <td>1688166000010</td>\n",
       "      <td>134</td>\n",
       "      <td>0.0</td>\n",
       "    </tr>\n",
       "    <tr>\n",
       "      <th>1</th>\n",
       "      <td>2023-06-30 23:00:00</td>\n",
       "      <td>1.09131</td>\n",
       "      <td>1.09131</td>\n",
       "      <td>0.0</td>\n",
       "      <td>0</td>\n",
       "      <td>1688166000037</td>\n",
       "      <td>134</td>\n",
       "      <td>0.0</td>\n",
       "    </tr>\n",
       "    <tr>\n",
       "      <th>2</th>\n",
       "      <td>2023-06-30 23:00:00</td>\n",
       "      <td>1.09132</td>\n",
       "      <td>1.09132</td>\n",
       "      <td>0.0</td>\n",
       "      <td>0</td>\n",
       "      <td>1688166000062</td>\n",
       "      <td>134</td>\n",
       "      <td>0.0</td>\n",
       "    </tr>\n",
       "    <tr>\n",
       "      <th>3</th>\n",
       "      <td>2023-06-30 23:00:00</td>\n",
       "      <td>1.09133</td>\n",
       "      <td>1.09133</td>\n",
       "      <td>0.0</td>\n",
       "      <td>0</td>\n",
       "      <td>1688166000106</td>\n",
       "      <td>134</td>\n",
       "      <td>0.0</td>\n",
       "    </tr>\n",
       "    <tr>\n",
       "      <th>4</th>\n",
       "      <td>2023-06-30 23:00:00</td>\n",
       "      <td>1.09132</td>\n",
       "      <td>1.09132</td>\n",
       "      <td>0.0</td>\n",
       "      <td>0</td>\n",
       "      <td>1688166000167</td>\n",
       "      <td>134</td>\n",
       "      <td>0.0</td>\n",
       "    </tr>\n",
       "    <tr>\n",
       "      <th>5</th>\n",
       "      <td>2023-06-30 23:00:00</td>\n",
       "      <td>1.09129</td>\n",
       "      <td>1.09133</td>\n",
       "      <td>0.0</td>\n",
       "      <td>0</td>\n",
       "      <td>1688166000288</td>\n",
       "      <td>134</td>\n",
       "      <td>0.0</td>\n",
       "    </tr>\n",
       "    <tr>\n",
       "      <th>6</th>\n",
       "      <td>2023-06-30 23:00:00</td>\n",
       "      <td>1.09131</td>\n",
       "      <td>1.09131</td>\n",
       "      <td>0.0</td>\n",
       "      <td>0</td>\n",
       "      <td>1688166000592</td>\n",
       "      <td>134</td>\n",
       "      <td>0.0</td>\n",
       "    </tr>\n",
       "    <tr>\n",
       "      <th>7</th>\n",
       "      <td>2023-06-30 23:00:00</td>\n",
       "      <td>1.09132</td>\n",
       "      <td>1.09132</td>\n",
       "      <td>0.0</td>\n",
       "      <td>0</td>\n",
       "      <td>1688166000639</td>\n",
       "      <td>134</td>\n",
       "      <td>0.0</td>\n",
       "    </tr>\n",
       "    <tr>\n",
       "      <th>8</th>\n",
       "      <td>2023-06-30 23:00:00</td>\n",
       "      <td>1.09129</td>\n",
       "      <td>1.09133</td>\n",
       "      <td>0.0</td>\n",
       "      <td>0</td>\n",
       "      <td>1688166000921</td>\n",
       "      <td>134</td>\n",
       "      <td>0.0</td>\n",
       "    </tr>\n",
       "    <tr>\n",
       "      <th>9</th>\n",
       "      <td>2023-06-30 23:00:00</td>\n",
       "      <td>1.09132</td>\n",
       "      <td>1.09132</td>\n",
       "      <td>0.0</td>\n",
       "      <td>0</td>\n",
       "      <td>1688166000940</td>\n",
       "      <td>134</td>\n",
       "      <td>0.0</td>\n",
       "    </tr>\n",
       "  </tbody>\n",
       "</table>\n",
       "</div>"
      ],
      "text/plain": [
       "                 time      bid      ask  last  volume       time_msc  flags  \\\n",
       "0 2023-06-30 23:00:00  1.09127  1.09132   0.0       0  1688166000010    134   \n",
       "1 2023-06-30 23:00:00  1.09131  1.09131   0.0       0  1688166000037    134   \n",
       "2 2023-06-30 23:00:00  1.09132  1.09132   0.0       0  1688166000062    134   \n",
       "3 2023-06-30 23:00:00  1.09133  1.09133   0.0       0  1688166000106    134   \n",
       "4 2023-06-30 23:00:00  1.09132  1.09132   0.0       0  1688166000167    134   \n",
       "5 2023-06-30 23:00:00  1.09129  1.09133   0.0       0  1688166000288    134   \n",
       "6 2023-06-30 23:00:00  1.09131  1.09131   0.0       0  1688166000592    134   \n",
       "7 2023-06-30 23:00:00  1.09132  1.09132   0.0       0  1688166000639    134   \n",
       "8 2023-06-30 23:00:00  1.09129  1.09133   0.0       0  1688166000921    134   \n",
       "9 2023-06-30 23:00:00  1.09132  1.09132   0.0       0  1688166000940    134   \n",
       "\n",
       "   volume_real  \n",
       "0          0.0  \n",
       "1          0.0  \n",
       "2          0.0  \n",
       "3          0.0  \n",
       "4          0.0  \n",
       "5          0.0  \n",
       "6          0.0  \n",
       "7          0.0  \n",
       "8          0.0  \n",
       "9          0.0  "
      ]
     },
     "execution_count": 24,
     "metadata": {},
     "output_type": "execute_result"
    }
   ],
   "source": [
    "#Now we import the ticks from a specfic date\n",
    "#Calculate now date\n",
    "from_date = datetime(2023,7,1)\n",
    "\n",
    "\n",
    "#Extract n ticks before now\n",
    "ticks = mt5.copy_ticks_from(\"EURUSD\",from_date,10,mt5.COPY_TICKS_ALL)\n",
    "\n",
    "df_ticks = pd.DataFrame(ticks)\n",
    "df_ticks[\"time\"] = pd.to_datetime(df_ticks[\"time\"],unit=\"s\")\n",
    "df_ticks\n"
   ]
  },
  {
   "attachments": {},
   "cell_type": "markdown",
   "metadata": {},
   "source": [
    "IMPORT TICKS RANGES"
   ]
  },
  {
   "cell_type": "code",
   "execution_count": 25,
   "metadata": {},
   "outputs": [
    {
     "data": {
      "text/html": [
       "<div>\n",
       "<style scoped>\n",
       "    .dataframe tbody tr th:only-of-type {\n",
       "        vertical-align: middle;\n",
       "    }\n",
       "\n",
       "    .dataframe tbody tr th {\n",
       "        vertical-align: top;\n",
       "    }\n",
       "\n",
       "    .dataframe thead th {\n",
       "        text-align: right;\n",
       "    }\n",
       "</style>\n",
       "<table border=\"1\" class=\"dataframe\">\n",
       "  <thead>\n",
       "    <tr style=\"text-align: right;\">\n",
       "      <th></th>\n",
       "      <th>time</th>\n",
       "      <th>bid</th>\n",
       "      <th>ask</th>\n",
       "      <th>last</th>\n",
       "      <th>volume</th>\n",
       "      <th>time_msc</th>\n",
       "      <th>flags</th>\n",
       "      <th>volume_real</th>\n",
       "    </tr>\n",
       "  </thead>\n",
       "  <tbody>\n",
       "    <tr>\n",
       "      <th>0</th>\n",
       "      <td>2022-07-04 23:00:00</td>\n",
       "      <td>1.04237</td>\n",
       "      <td>1.04237</td>\n",
       "      <td>0.0</td>\n",
       "      <td>0</td>\n",
       "      <td>1656975600177</td>\n",
       "      <td>130</td>\n",
       "      <td>0.0</td>\n",
       "    </tr>\n",
       "    <tr>\n",
       "      <th>1</th>\n",
       "      <td>2022-07-04 23:00:00</td>\n",
       "      <td>1.04234</td>\n",
       "      <td>1.04239</td>\n",
       "      <td>0.0</td>\n",
       "      <td>0</td>\n",
       "      <td>1656975600481</td>\n",
       "      <td>134</td>\n",
       "      <td>0.0</td>\n",
       "    </tr>\n",
       "    <tr>\n",
       "      <th>2</th>\n",
       "      <td>2022-07-04 23:00:00</td>\n",
       "      <td>1.04233</td>\n",
       "      <td>1.04239</td>\n",
       "      <td>0.0</td>\n",
       "      <td>0</td>\n",
       "      <td>1656975600575</td>\n",
       "      <td>130</td>\n",
       "      <td>0.0</td>\n",
       "    </tr>\n",
       "    <tr>\n",
       "      <th>3</th>\n",
       "      <td>2022-07-04 23:00:00</td>\n",
       "      <td>1.04234</td>\n",
       "      <td>1.04234</td>\n",
       "      <td>0.0</td>\n",
       "      <td>0</td>\n",
       "      <td>1656975600783</td>\n",
       "      <td>134</td>\n",
       "      <td>0.0</td>\n",
       "    </tr>\n",
       "    <tr>\n",
       "      <th>4</th>\n",
       "      <td>2022-07-04 23:00:00</td>\n",
       "      <td>1.04228</td>\n",
       "      <td>1.04233</td>\n",
       "      <td>0.0</td>\n",
       "      <td>0</td>\n",
       "      <td>1656975600986</td>\n",
       "      <td>134</td>\n",
       "      <td>0.0</td>\n",
       "    </tr>\n",
       "    <tr>\n",
       "      <th>...</th>\n",
       "      <td>...</td>\n",
       "      <td>...</td>\n",
       "      <td>...</td>\n",
       "      <td>...</td>\n",
       "      <td>...</td>\n",
       "      <td>...</td>\n",
       "      <td>...</td>\n",
       "      <td>...</td>\n",
       "    </tr>\n",
       "    <tr>\n",
       "      <th>144497</th>\n",
       "      <td>2022-07-05 22:59:58</td>\n",
       "      <td>1.02666</td>\n",
       "      <td>1.02666</td>\n",
       "      <td>0.0</td>\n",
       "      <td>0</td>\n",
       "      <td>1657061998227</td>\n",
       "      <td>134</td>\n",
       "      <td>0.0</td>\n",
       "    </tr>\n",
       "    <tr>\n",
       "      <th>144498</th>\n",
       "      <td>2022-07-05 22:59:58</td>\n",
       "      <td>1.02662</td>\n",
       "      <td>1.02662</td>\n",
       "      <td>0.0</td>\n",
       "      <td>0</td>\n",
       "      <td>1657061998961</td>\n",
       "      <td>134</td>\n",
       "      <td>0.0</td>\n",
       "    </tr>\n",
       "    <tr>\n",
       "      <th>144499</th>\n",
       "      <td>2022-07-05 22:59:59</td>\n",
       "      <td>1.02661</td>\n",
       "      <td>1.02661</td>\n",
       "      <td>0.0</td>\n",
       "      <td>0</td>\n",
       "      <td>1657061999066</td>\n",
       "      <td>134</td>\n",
       "      <td>0.0</td>\n",
       "    </tr>\n",
       "    <tr>\n",
       "      <th>144500</th>\n",
       "      <td>2022-07-05 22:59:59</td>\n",
       "      <td>1.02662</td>\n",
       "      <td>1.02662</td>\n",
       "      <td>0.0</td>\n",
       "      <td>0</td>\n",
       "      <td>1657061999161</td>\n",
       "      <td>134</td>\n",
       "      <td>0.0</td>\n",
       "    </tr>\n",
       "    <tr>\n",
       "      <th>144501</th>\n",
       "      <td>2022-07-05 22:59:59</td>\n",
       "      <td>1.02660</td>\n",
       "      <td>1.02665</td>\n",
       "      <td>0.0</td>\n",
       "      <td>0</td>\n",
       "      <td>1657061999759</td>\n",
       "      <td>134</td>\n",
       "      <td>0.0</td>\n",
       "    </tr>\n",
       "  </tbody>\n",
       "</table>\n",
       "<p>144502 rows × 8 columns</p>\n",
       "</div>"
      ],
      "text/plain": [
       "                      time      bid      ask  last  volume       time_msc  \\\n",
       "0      2022-07-04 23:00:00  1.04237  1.04237   0.0       0  1656975600177   \n",
       "1      2022-07-04 23:00:00  1.04234  1.04239   0.0       0  1656975600481   \n",
       "2      2022-07-04 23:00:00  1.04233  1.04239   0.0       0  1656975600575   \n",
       "3      2022-07-04 23:00:00  1.04234  1.04234   0.0       0  1656975600783   \n",
       "4      2022-07-04 23:00:00  1.04228  1.04233   0.0       0  1656975600986   \n",
       "...                    ...      ...      ...   ...     ...            ...   \n",
       "144497 2022-07-05 22:59:58  1.02666  1.02666   0.0       0  1657061998227   \n",
       "144498 2022-07-05 22:59:58  1.02662  1.02662   0.0       0  1657061998961   \n",
       "144499 2022-07-05 22:59:59  1.02661  1.02661   0.0       0  1657061999066   \n",
       "144500 2022-07-05 22:59:59  1.02662  1.02662   0.0       0  1657061999161   \n",
       "144501 2022-07-05 22:59:59  1.02660  1.02665   0.0       0  1657061999759   \n",
       "\n",
       "        flags  volume_real  \n",
       "0         130          0.0  \n",
       "1         134          0.0  \n",
       "2         130          0.0  \n",
       "3         134          0.0  \n",
       "4         134          0.0  \n",
       "...       ...          ...  \n",
       "144497    134          0.0  \n",
       "144498    134          0.0  \n",
       "144499    134          0.0  \n",
       "144500    134          0.0  \n",
       "144501    134          0.0  \n",
       "\n",
       "[144502 rows x 8 columns]"
      ]
     },
     "execution_count": 25,
     "metadata": {},
     "output_type": "execute_result"
    }
   ],
   "source": [
    "#Compute now date\n",
    "from_date = datetime(2022,7,5)\n",
    "to_date = datetime(2022,7,6)\n",
    "\n",
    "# #Extract n Ticks before now\n",
    "ticks = mt5.copy_ticks_range(\"EURUSD\",from_date,to_date,mt5.COPY_TICKS_ALL)\n",
    "# # #Transform Tuple into a Dataframe\n",
    "df_ticks = pd.DataFrame(ticks)\n",
    "\n",
    "# # # #Change time format\n",
    "df_ticks[\"time\"] = pd.to_datetime(df_ticks[\"time\"],unit=\"s\")\n",
    "df_ticks"
   ]
  },
  {
   "attachments": {},
   "cell_type": "markdown",
   "metadata": {},
   "source": [
    "IMPORT RATES DATA"
   ]
  },
  {
   "cell_type": "code",
   "execution_count": 26,
   "metadata": {},
   "outputs": [
    {
     "data": {
      "text/html": [
       "<div>\n",
       "<style scoped>\n",
       "    .dataframe tbody tr th:only-of-type {\n",
       "        vertical-align: middle;\n",
       "    }\n",
       "\n",
       "    .dataframe tbody tr th {\n",
       "        vertical-align: top;\n",
       "    }\n",
       "\n",
       "    .dataframe thead th {\n",
       "        text-align: right;\n",
       "    }\n",
       "</style>\n",
       "<table border=\"1\" class=\"dataframe\">\n",
       "  <thead>\n",
       "    <tr style=\"text-align: right;\">\n",
       "      <th></th>\n",
       "      <th>time</th>\n",
       "      <th>open</th>\n",
       "      <th>high</th>\n",
       "      <th>low</th>\n",
       "      <th>close</th>\n",
       "      <th>tick_volume</th>\n",
       "      <th>spread</th>\n",
       "      <th>real_volume</th>\n",
       "    </tr>\n",
       "  </thead>\n",
       "  <tbody>\n",
       "    <tr>\n",
       "      <th>0</th>\n",
       "      <td>2023-07-21</td>\n",
       "      <td>1.11291</td>\n",
       "      <td>1.11449</td>\n",
       "      <td>1.11080</td>\n",
       "      <td>1.11246</td>\n",
       "      <td>57028</td>\n",
       "      <td>0</td>\n",
       "      <td>0</td>\n",
       "    </tr>\n",
       "    <tr>\n",
       "      <th>1</th>\n",
       "      <td>2023-07-24</td>\n",
       "      <td>1.11213</td>\n",
       "      <td>1.11470</td>\n",
       "      <td>1.10603</td>\n",
       "      <td>1.10641</td>\n",
       "      <td>67541</td>\n",
       "      <td>0</td>\n",
       "      <td>0</td>\n",
       "    </tr>\n",
       "    <tr>\n",
       "      <th>2</th>\n",
       "      <td>2023-07-25</td>\n",
       "      <td>1.10636</td>\n",
       "      <td>1.10869</td>\n",
       "      <td>1.10206</td>\n",
       "      <td>1.10497</td>\n",
       "      <td>60015</td>\n",
       "      <td>0</td>\n",
       "      <td>0</td>\n",
       "    </tr>\n",
       "    <tr>\n",
       "      <th>3</th>\n",
       "      <td>2023-07-26</td>\n",
       "      <td>1.10500</td>\n",
       "      <td>1.11065</td>\n",
       "      <td>1.10378</td>\n",
       "      <td>1.10852</td>\n",
       "      <td>76916</td>\n",
       "      <td>0</td>\n",
       "      <td>0</td>\n",
       "    </tr>\n",
       "    <tr>\n",
       "      <th>4</th>\n",
       "      <td>2023-07-27</td>\n",
       "      <td>1.10856</td>\n",
       "      <td>1.11497</td>\n",
       "      <td>1.09659</td>\n",
       "      <td>1.09765</td>\n",
       "      <td>110742</td>\n",
       "      <td>0</td>\n",
       "      <td>0</td>\n",
       "    </tr>\n",
       "    <tr>\n",
       "      <th>5</th>\n",
       "      <td>2023-07-28</td>\n",
       "      <td>1.09762</td>\n",
       "      <td>1.10477</td>\n",
       "      <td>1.09437</td>\n",
       "      <td>1.10141</td>\n",
       "      <td>106941</td>\n",
       "      <td>0</td>\n",
       "      <td>0</td>\n",
       "    </tr>\n",
       "    <tr>\n",
       "      <th>6</th>\n",
       "      <td>2023-07-31</td>\n",
       "      <td>1.10230</td>\n",
       "      <td>1.10459</td>\n",
       "      <td>1.09932</td>\n",
       "      <td>1.09964</td>\n",
       "      <td>63873</td>\n",
       "      <td>0</td>\n",
       "      <td>0</td>\n",
       "    </tr>\n",
       "    <tr>\n",
       "      <th>7</th>\n",
       "      <td>2023-08-01</td>\n",
       "      <td>1.09966</td>\n",
       "      <td>1.10029</td>\n",
       "      <td>1.09525</td>\n",
       "      <td>1.09842</td>\n",
       "      <td>63981</td>\n",
       "      <td>0</td>\n",
       "      <td>0</td>\n",
       "    </tr>\n",
       "    <tr>\n",
       "      <th>8</th>\n",
       "      <td>2023-08-02</td>\n",
       "      <td>1.09816</td>\n",
       "      <td>1.10187</td>\n",
       "      <td>1.09178</td>\n",
       "      <td>1.09379</td>\n",
       "      <td>77015</td>\n",
       "      <td>0</td>\n",
       "      <td>0</td>\n",
       "    </tr>\n",
       "    <tr>\n",
       "      <th>9</th>\n",
       "      <td>2023-08-03</td>\n",
       "      <td>1.09371</td>\n",
       "      <td>1.09628</td>\n",
       "      <td>1.09124</td>\n",
       "      <td>1.09480</td>\n",
       "      <td>80559</td>\n",
       "      <td>0</td>\n",
       "      <td>0</td>\n",
       "    </tr>\n",
       "    <tr>\n",
       "      <th>10</th>\n",
       "      <td>2023-08-04</td>\n",
       "      <td>1.09490</td>\n",
       "      <td>1.10421</td>\n",
       "      <td>1.09293</td>\n",
       "      <td>1.10055</td>\n",
       "      <td>78356</td>\n",
       "      <td>0</td>\n",
       "      <td>0</td>\n",
       "    </tr>\n",
       "    <tr>\n",
       "      <th>11</th>\n",
       "      <td>2023-08-07</td>\n",
       "      <td>1.10111</td>\n",
       "      <td>1.10160</td>\n",
       "      <td>1.09655</td>\n",
       "      <td>1.10021</td>\n",
       "      <td>52824</td>\n",
       "      <td>0</td>\n",
       "      <td>0</td>\n",
       "    </tr>\n",
       "    <tr>\n",
       "      <th>12</th>\n",
       "      <td>2023-08-08</td>\n",
       "      <td>1.10026</td>\n",
       "      <td>1.10112</td>\n",
       "      <td>1.09292</td>\n",
       "      <td>1.09556</td>\n",
       "      <td>61011</td>\n",
       "      <td>0</td>\n",
       "      <td>0</td>\n",
       "    </tr>\n",
       "    <tr>\n",
       "      <th>13</th>\n",
       "      <td>2023-08-09</td>\n",
       "      <td>1.09556</td>\n",
       "      <td>1.09954</td>\n",
       "      <td>1.09445</td>\n",
       "      <td>1.09734</td>\n",
       "      <td>49227</td>\n",
       "      <td>0</td>\n",
       "      <td>0</td>\n",
       "    </tr>\n",
       "    <tr>\n",
       "      <th>14</th>\n",
       "      <td>2023-08-10</td>\n",
       "      <td>1.09739</td>\n",
       "      <td>1.10653</td>\n",
       "      <td>1.09651</td>\n",
       "      <td>1.09805</td>\n",
       "      <td>92544</td>\n",
       "      <td>0</td>\n",
       "      <td>0</td>\n",
       "    </tr>\n",
       "    <tr>\n",
       "      <th>15</th>\n",
       "      <td>2023-08-11</td>\n",
       "      <td>1.09799</td>\n",
       "      <td>1.10049</td>\n",
       "      <td>1.09431</td>\n",
       "      <td>1.09451</td>\n",
       "      <td>66144</td>\n",
       "      <td>0</td>\n",
       "      <td>0</td>\n",
       "    </tr>\n",
       "    <tr>\n",
       "      <th>16</th>\n",
       "      <td>2023-08-14</td>\n",
       "      <td>1.09492</td>\n",
       "      <td>1.09602</td>\n",
       "      <td>1.08744</td>\n",
       "      <td>1.09052</td>\n",
       "      <td>70515</td>\n",
       "      <td>0</td>\n",
       "      <td>0</td>\n",
       "    </tr>\n",
       "    <tr>\n",
       "      <th>17</th>\n",
       "      <td>2023-08-15</td>\n",
       "      <td>1.09028</td>\n",
       "      <td>1.09525</td>\n",
       "      <td>1.08967</td>\n",
       "      <td>1.09043</td>\n",
       "      <td>86676</td>\n",
       "      <td>0</td>\n",
       "      <td>0</td>\n",
       "    </tr>\n",
       "    <tr>\n",
       "      <th>18</th>\n",
       "      <td>2023-08-16</td>\n",
       "      <td>1.09042</td>\n",
       "      <td>1.09346</td>\n",
       "      <td>1.08716</td>\n",
       "      <td>1.08788</td>\n",
       "      <td>69353</td>\n",
       "      <td>0</td>\n",
       "      <td>0</td>\n",
       "    </tr>\n",
       "    <tr>\n",
       "      <th>19</th>\n",
       "      <td>2023-08-17</td>\n",
       "      <td>1.08789</td>\n",
       "      <td>1.09185</td>\n",
       "      <td>1.08561</td>\n",
       "      <td>1.08717</td>\n",
       "      <td>91669</td>\n",
       "      <td>0</td>\n",
       "      <td>0</td>\n",
       "    </tr>\n",
       "    <tr>\n",
       "      <th>20</th>\n",
       "      <td>2023-08-18</td>\n",
       "      <td>1.08716</td>\n",
       "      <td>1.08938</td>\n",
       "      <td>1.08587</td>\n",
       "      <td>1.08711</td>\n",
       "      <td>33459</td>\n",
       "      <td>0</td>\n",
       "      <td>0</td>\n",
       "    </tr>\n",
       "  </tbody>\n",
       "</table>\n",
       "</div>"
      ],
      "text/plain": [
       "         time     open     high      low    close  tick_volume  spread  \\\n",
       "0  2023-07-21  1.11291  1.11449  1.11080  1.11246        57028       0   \n",
       "1  2023-07-24  1.11213  1.11470  1.10603  1.10641        67541       0   \n",
       "2  2023-07-25  1.10636  1.10869  1.10206  1.10497        60015       0   \n",
       "3  2023-07-26  1.10500  1.11065  1.10378  1.10852        76916       0   \n",
       "4  2023-07-27  1.10856  1.11497  1.09659  1.09765       110742       0   \n",
       "5  2023-07-28  1.09762  1.10477  1.09437  1.10141       106941       0   \n",
       "6  2023-07-31  1.10230  1.10459  1.09932  1.09964        63873       0   \n",
       "7  2023-08-01  1.09966  1.10029  1.09525  1.09842        63981       0   \n",
       "8  2023-08-02  1.09816  1.10187  1.09178  1.09379        77015       0   \n",
       "9  2023-08-03  1.09371  1.09628  1.09124  1.09480        80559       0   \n",
       "10 2023-08-04  1.09490  1.10421  1.09293  1.10055        78356       0   \n",
       "11 2023-08-07  1.10111  1.10160  1.09655  1.10021        52824       0   \n",
       "12 2023-08-08  1.10026  1.10112  1.09292  1.09556        61011       0   \n",
       "13 2023-08-09  1.09556  1.09954  1.09445  1.09734        49227       0   \n",
       "14 2023-08-10  1.09739  1.10653  1.09651  1.09805        92544       0   \n",
       "15 2023-08-11  1.09799  1.10049  1.09431  1.09451        66144       0   \n",
       "16 2023-08-14  1.09492  1.09602  1.08744  1.09052        70515       0   \n",
       "17 2023-08-15  1.09028  1.09525  1.08967  1.09043        86676       0   \n",
       "18 2023-08-16  1.09042  1.09346  1.08716  1.08788        69353       0   \n",
       "19 2023-08-17  1.08789  1.09185  1.08561  1.08717        91669       0   \n",
       "20 2023-08-18  1.08716  1.08938  1.08587  1.08711        33459       0   \n",
       "\n",
       "    real_volume  \n",
       "0             0  \n",
       "1             0  \n",
       "2             0  \n",
       "3             0  \n",
       "4             0  \n",
       "5             0  \n",
       "6             0  \n",
       "7             0  \n",
       "8             0  \n",
       "9             0  \n",
       "10            0  \n",
       "11            0  \n",
       "12            0  \n",
       "13            0  \n",
       "14            0  \n",
       "15            0  \n",
       "16            0  \n",
       "17            0  \n",
       "18            0  \n",
       "19            0  \n",
       "20            0  "
      ]
     },
     "execution_count": 26,
     "metadata": {},
     "output_type": "execute_result"
    }
   ],
   "source": [
    "#Compute now date\n",
    "from_date = datetime.now()\n",
    "\n",
    "#Extract n Ticks before now\n",
    "rates = mt5.copy_rates_from(\"EURUSD\",mt5.TIMEFRAME_D1,from_date,21)\n",
    "\n",
    "#Transform tuple to df\n",
    "df_rates = pd.DataFrame(rates)\n",
    "\n",
    "#Convert time format\n",
    "df_rates[\"time\"] = pd.to_datetime(df_rates['time'],unit='s')\n",
    "\n",
    "df_rates"
   ]
  },
  {
   "attachments": {},
   "cell_type": "markdown",
   "metadata": {},
   "source": [
    "CHAPTER 03: SEND ORDERS"
   ]
  },
  {
   "cell_type": "code",
   "execution_count": 27,
   "metadata": {},
   "outputs": [
    {
     "data": {
      "text/plain": [
       "OrderCheckResult(retcode=0, balance=9998.4, equity=9997.04, profit=0.0, margin=218.73, margin_free=9778.31, margin_level=4570.493302244778, comment='Done', request=TradeRequest(action=1, magic=0, order=0, symbol='EURUSD', volume=0.1, price=1.08711, stoplimit=0.0, sl=0.0, tp=0.0, deviation=10, type=0, type_filling=1, type_time=0, expiration=0, comment='python script open', position=0, position_by=0))"
      ]
     },
     "execution_count": 27,
     "metadata": {},
     "output_type": "execute_result"
    }
   ],
   "source": [
    "#Choose the symbol\n",
    "symbol = \"EURUSD\"\n",
    "\n",
    "#Choose the lot\n",
    "lot = 0.1\n",
    "\n",
    "#Choose the deviation\n",
    "deviation = 10\n",
    "\n",
    "#Find the filling mode of the symbol given\n",
    "filling_type = mt5.symbol_info(symbol).filling_mode\n",
    "\n",
    "request = {\n",
    "    \"action\": mt5.TRADE_ACTION_DEAL,\n",
    "    \"symbol\": symbol,\n",
    "    \"volume\": lot,\n",
    "    \"type\": mt5.ORDER_TYPE_BUY,\n",
    "\n",
    "         ###Focus on this price #########\n",
    "    \"price\": mt5.symbol_info_tick(symbol).ask,\n",
    "    \n",
    "    # \"sl\": price - 100 * point,\n",
    "    # \"tp\": price + 100 * point,\n",
    "    \"deviation\": deviation,\n",
    "    # \"magic\": 234000,\n",
    "    \"comment\": \"python script open\",\n",
    "    \"type_time\": mt5.ORDER_TIME_GTC,\n",
    "    \"type_filling\": filling_type,\n",
    "}\n",
    "\n",
    "mt5.order_check(request)"
   ]
  },
  {
   "attachments": {},
   "cell_type": "markdown",
   "metadata": {},
   "source": [
    "CREATE BUY ORDER "
   ]
  },
  {
   "cell_type": "code",
   "execution_count": 28,
   "metadata": {},
   "outputs": [
    {
     "data": {
      "text/plain": [
       "OrderSendResult(retcode=10009, deal=1846495283, order=1871197348, volume=0.1, price=1.08711, bid=1.08711, ask=1.08711, comment='Request executed', request_id=1050932323, retcode_external=0, request=TradeRequest(action=1, magic=0, order=0, symbol='EURUSD', volume=0.1, price=1.08711, stoplimit=0.0, sl=0.0, tp=0.0, deviation=10, type=0, type_filling=1, type_time=0, expiration=0, comment='python script open', position=0, position_by=0))"
      ]
     },
     "execution_count": 28,
     "metadata": {},
     "output_type": "execute_result"
    }
   ],
   "source": [
    "request = {\n",
    "    \"action\": mt5.TRADE_ACTION_DEAL,\n",
    "    \"symbol\": symbol,\n",
    "    \"volume\": lot,\n",
    "    \"type\": mt5.ORDER_TYPE_BUY,\n",
    "\n",
    "         ###Focus on this price #########\n",
    "    \"price\": mt5.symbol_info_tick(symbol).ask,\n",
    "    \n",
    "    # \"sl\": price - 100 * point,\n",
    "    # \"tp\": price + 100 * point,\n",
    "    \"deviation\": deviation,\n",
    "    # \"magic\": 234000,\n",
    "    \"comment\": \"python script open\",\n",
    "    \"type_time\": mt5.ORDER_TIME_GTC,\n",
    "    \"type_filling\": filling_type,\n",
    "}\n",
    "\n",
    "mt5.order_send(request)"
   ]
  },
  {
   "attachments": {},
   "cell_type": "markdown",
   "metadata": {},
   "source": [
    "CLOSE A BUY ORDER"
   ]
  },
  {
   "cell_type": "code",
   "execution_count": 29,
   "metadata": {},
   "outputs": [
    {
     "data": {
      "text/plain": [
       "OrderSendResult(retcode=10013, deal=0, order=0, volume=0.0, price=0.0, bid=0.0, ask=0.0, comment='Invalid request', request_id=0, retcode_external=0, request=TradeRequest(action=1, magic=0, order=0, symbol='EURUSD', volume=0.1, price=1.08711, stoplimit=0.0, sl=0.0, tp=0.0, deviation=10, type=1, type_filling=1, type_time=0, expiration=0, comment='python script open', position=1671609612, position_by=0))"
      ]
     },
     "execution_count": 29,
     "metadata": {},
     "output_type": "execute_result"
    }
   ],
   "source": [
    "request = {\n",
    "    \"action\": mt5.TRADE_ACTION_DEAL,\n",
    "    \"symbol\": symbol,\n",
    "    \"volume\": lot,\n",
    "     ###change order type to the opposite \n",
    "    \"type\": mt5.ORDER_TYPE_SELL,\n",
    "\n",
    "         ###Focus on this price we change it to the opposite ask/bid#########\n",
    "    \"price\": mt5.symbol_info_tick(symbol).bid,\n",
    "###position numbers is from order in the returned values of CREATE BUY ORDER#####\n",
    "    \"position\":1671609612,\n",
    "    \n",
    "    # \"sl\": price - 100 * point,\n",
    "    # \"tp\": price + 100 * point,\n",
    "    \"deviation\": deviation,\n",
    "    # \"magic\": 234000,\n",
    "    \"comment\": \"python script open\",\n",
    "    \"type_time\": mt5.ORDER_TIME_GTC,\n",
    "    \"type_filling\": filling_type,\n",
    "}\n",
    "\n",
    "mt5.order_send(request)"
   ]
  },
  {
   "attachments": {},
   "cell_type": "markdown",
   "metadata": {},
   "source": [
    "CREATE A SELL ORDER"
   ]
  },
  {
   "cell_type": "code",
   "execution_count": 30,
   "metadata": {},
   "outputs": [
    {
     "data": {
      "text/plain": [
       "OrderSendResult(retcode=10009, deal=1846495297, order=1871197362, volume=0.1, price=1.08711, bid=1.08711, ask=1.08711, comment='Request executed', request_id=1050932324, retcode_external=0, request=TradeRequest(action=1, magic=0, order=0, symbol='EURUSD', volume=0.1, price=1.08711, stoplimit=0.0, sl=0.0, tp=0.0, deviation=10, type=1, type_filling=1, type_time=0, expiration=0, comment='python script open', position=0, position_by=0))"
      ]
     },
     "execution_count": 30,
     "metadata": {},
     "output_type": "execute_result"
    }
   ],
   "source": [
    "request = {\n",
    "    \"action\": mt5.TRADE_ACTION_DEAL,\n",
    "    \"symbol\": symbol,\n",
    "    \"volume\": lot,\n",
    "    \"type\": mt5.ORDER_TYPE_SELL,\n",
    "\n",
    "         ###Focus on this price #########\n",
    "    \"price\": mt5.symbol_info_tick(symbol).bid,\n",
    "    \n",
    "    # \"sl\": price - 100 * point,\n",
    "    # \"tp\": price + 100 * point,\n",
    "    \"deviation\": deviation,\n",
    "    # \"magic\": 234000,\n",
    "    \"comment\": \"python script open\",\n",
    "    \"type_time\": mt5.ORDER_TIME_GTC,\n",
    "    \"type_filling\": filling_type,\n",
    "}\n",
    "\n",
    "mt5.order_send(request)"
   ]
  },
  {
   "attachments": {},
   "cell_type": "markdown",
   "metadata": {},
   "source": [
    "CLOSE SELL ORDER"
   ]
  },
  {
   "cell_type": "code",
   "execution_count": 31,
   "metadata": {},
   "outputs": [
    {
     "data": {
      "text/plain": [
       "OrderSendResult(retcode=10013, deal=0, order=0, volume=0.0, price=0.0, bid=0.0, ask=0.0, comment='Invalid request', request_id=0, retcode_external=0, request=TradeRequest(action=1, magic=0, order=0, symbol='EURUSD', volume=0.1, price=1.08711, stoplimit=0.0, sl=0.0, tp=0.0, deviation=10, type=0, type_filling=1, type_time=0, expiration=0, comment='python script open', position=1671532959, position_by=0))"
      ]
     },
     "execution_count": 31,
     "metadata": {},
     "output_type": "execute_result"
    }
   ],
   "source": [
    "request = {\n",
    "    \"action\": mt5.TRADE_ACTION_DEAL,\n",
    "    \"symbol\": symbol,\n",
    "    \"volume\": lot,\n",
    "    ###change order type to the opposite \n",
    "    \"type\": mt5.ORDER_TYPE_BUY,\n",
    "\n",
    "         ###Focus on this price we change it to the opposite ask/bid#########\n",
    "    \"price\": mt5.symbol_info_tick(symbol).ask,\n",
    "    ###position numbers is from order in the returned values of CREATE BUY ORDER#####\n",
    "    \"position\":1671532959,\n",
    "    \n",
    "    # \"sl\": price - 100 * point,\n",
    "    # \"tp\": price + 100 * point,\n",
    "    \"deviation\": deviation,\n",
    "    # \"magic\": 234000,\n",
    "    \"comment\": \"python script open\",\n",
    "    \"type_time\": mt5.ORDER_TIME_GTC,\n",
    "    \"type_filling\": filling_type,\n",
    "}\n",
    "\n",
    "mt5.order_send(request)"
   ]
  },
  {
   "attachments": {},
   "cell_type": "markdown",
   "metadata": {},
   "source": [
    "AUTOMATE BUY SELL ORDER CREATION AND CLOSING"
   ]
  },
  {
   "cell_type": "code",
   "execution_count": 32,
   "metadata": {},
   "outputs": [],
   "source": [
    "def send_order(symbol,lot,buy,sell,id_position = None, comment = \"No specific comment\",magic=0,deviation=10):\n",
    "    #Intialize connection between python and mt5\n",
    "    mt5.initialize()\n",
    "\n",
    "    #Extract filling_mode\n",
    "    filling_type = mt5.symbol_info(symbol).filling_mode\n",
    "\n",
    "    \"\"\"OPEN A TRADE\"\"\"  \n",
    "    if buy and id_position == None:\n",
    "        request = {\n",
    "                    \"action\": mt5.TRADE_ACTION_DEAL,\n",
    "                    \"symbol\": symbol,\n",
    "                    \"volume\": lot,\n",
    "                    \"type\": mt5.ORDER_TYPE_BUY,\n",
    "\n",
    "                        ###Focus on this price #########\n",
    "                    \"price\": mt5.symbol_info_tick(symbol).ask,\n",
    "                    \n",
    "                    # \"sl\": price - 100 * point,\n",
    "                    # \"tp\": price + 100 * point,\n",
    "                    \"deviation\": deviation,\n",
    "                    \"magic\":magic,\n",
    "                    \"comment\": comment,\n",
    "                    \"type_time\": mt5.ORDER_TIME_GTC,\n",
    "                    \"type_filling\": filling_type,\n",
    "                }\n",
    "        result = mt5.order_send(request)\n",
    "        return result\n",
    "    \n",
    "    if sell and id_position == None:\n",
    "        request = {\n",
    "                    \"action\": mt5.TRADE_ACTION_DEAL,\n",
    "                    \"symbol\": symbol,\n",
    "                    \"volume\": lot,\n",
    "                    \"type\": mt5.ORDER_TYPE_SELL,\n",
    "\n",
    "                    ###Focus on this price #########\n",
    "                    \"price\": mt5.symbol_info_tick(symbol).bid,\n",
    "                        \n",
    "                    # \"sl\": price - 100 * point,\n",
    "                    # \"tp\": price + 100 * point,\n",
    "                    \"deviation\": deviation,\n",
    "                    \"magic\": magic,\n",
    "                    \"comment\": comment,\n",
    "                    \"type_time\": mt5.ORDER_TIME_GTC,\n",
    "                    \"type_filling\": filling_type,\n",
    "                }\n",
    "\n",
    "        result = mt5.order_send(request)\n",
    "        return result\n",
    "    \n",
    "    \"\"\"CLOSE ORDER\"\"\"\n",
    "    \n",
    "    if buy and id_position != None:\n",
    "        request = {\n",
    "                    \"action\": mt5.TRADE_ACTION_DEAL,\n",
    "                    \"symbol\": symbol,\n",
    "                    \"volume\": lot,\n",
    "                    ###change order type to the opposite \n",
    "                    \"type\": mt5.ORDER_TYPE_SELL,\n",
    "\n",
    "                        ###Focus on this price we change it to the opposite ask/bid#########\n",
    "                    \"price\": mt5.symbol_info_tick(symbol).bid,\n",
    "                    ###position numbers is from order in the returned values of CREATE BUY ORDER#####\n",
    "                    \"position\":id_position,\n",
    "                    \n",
    "                    # \"sl\": price - 100 * point,\n",
    "                    # \"tp\": price + 100 * point,\n",
    "                    \"deviation\": deviation,\n",
    "                    \"magic\": magic,\n",
    "                    \"comment\": \"python script open\",\n",
    "                    \"type_time\": mt5.ORDER_TIME_GTC,\n",
    "                    \"type_filling\": filling_type,\n",
    "                }\n",
    "\n",
    "        result = mt5.order_send(request)\n",
    "        return result\n",
    "    \n",
    "    if sell and id_position != None:\n",
    "        request = {\n",
    "                    \"action\": mt5.TRADE_ACTION_DEAL,\n",
    "                    \"symbol\": symbol,\n",
    "                    \"volume\": lot,\n",
    "                    ###change order type to the opposite \n",
    "                    \"type\": mt5.ORDER_TYPE_BUY,\n",
    "\n",
    "                        ###Focus on this price we change it to the opposite ask/bid#########\n",
    "                    \"price\": mt5.symbol_info_tick(symbol).ask,\n",
    "                    ###position numbers is from order in the returned values of CREATE BUY ORDER#####\n",
    "                    \"position\":id_position,\n",
    "                    \n",
    "                    # \"sl\": price - 100 * point,\n",
    "                    # \"tp\": price + 100 * point,\n",
    "                    \"deviation\": deviation,\n",
    "                    \"magic\": magic,\n",
    "                    \"comment\": \"python script open\",\n",
    "                    \"type_time\": mt5.ORDER_TIME_GTC,\n",
    "                    \"type_filling\": filling_type,\n",
    "                }\n",
    "\n",
    "        result = mt5.order_send(request)\n",
    "        return result\n",
    "    \n",
    "    \n"
   ]
  },
  {
   "attachments": {},
   "cell_type": "markdown",
   "metadata": {},
   "source": [
    "EXECUTING A BUY/SELL ORDER"
   ]
  },
  {
   "cell_type": "code",
   "execution_count": 33,
   "metadata": {},
   "outputs": [],
   "source": [
    "order_open = send_order(\"EURUSD\",0.01,True,False)"
   ]
  },
  {
   "attachments": {},
   "cell_type": "markdown",
   "metadata": {},
   "source": [
    "CLOSING A BUY/SELL ORDER"
   ]
  },
  {
   "cell_type": "code",
   "execution_count": 34,
   "metadata": {},
   "outputs": [],
   "source": [
    "order_close = send_order(\"EURUSD\",0.01,True,False,id_position=order_open.order)"
   ]
  },
  {
   "attachments": {},
   "cell_type": "markdown",
   "metadata": {},
   "source": [
    "CREATE ORDER WITH TP AND SL"
   ]
  },
  {
   "attachments": {},
   "cell_type": "markdown",
   "metadata": {},
   "source": [
    "Buy Order"
   ]
  },
  {
   "cell_type": "code",
   "execution_count": 35,
   "metadata": {},
   "outputs": [
    {
     "data": {
      "text/plain": [
       "OrderSendResult(retcode=10004, deal=0, order=0, volume=0.0, price=0.0, bid=1.08708, ask=1.08708, comment='Requote', request_id=1050932327, retcode_external=0, request=TradeRequest(action=1, magic=0, order=0, symbol='EURUSD', volume=0.01, price=1.08711, stoplimit=0.0, sl=1.08701, tp=1.08811, deviation=10, type=0, type_filling=1, type_time=0, expiration=0, comment='', position=0, position_by=0))"
      ]
     },
     "execution_count": 35,
     "metadata": {},
     "output_type": "execute_result"
    }
   ],
   "source": [
    "lot = 0.01\n",
    "symbol = \"EURUSD\"\n",
    "\n",
    "point = mt5.symbol_info(symbol).point\n",
    "\n",
    "deviation = 10\n",
    "\n",
    "filling_type = mt5.symbol_info(symbol).filling_mode\n",
    "\n",
    "request = {\n",
    "                    \"action\": mt5.TRADE_ACTION_DEAL,\n",
    "                    \"symbol\": symbol,\n",
    "                    \"volume\": lot,\n",
    "                    \"type\": mt5.ORDER_TYPE_BUY,\n",
    "\n",
    "                        ###Focus on this price #########\n",
    "                    \"price\": mt5.symbol_info_tick(symbol).ask,\n",
    "\n",
    "                    ###10 is for one pip difference in the code below \n",
    "                    \"sl\": mt5.symbol_info_tick(symbol).ask - 10 * point,\n",
    "                    \"tp\": mt5.symbol_info_tick(symbol).ask + 100 * point,\n",
    "                    \"deviation\": deviation,\n",
    "                    # \"magic\":magic,\n",
    "                    # \"comment\": comment,\n",
    "                    \"type_time\": mt5.ORDER_TIME_GTC,\n",
    "                    \"type_filling\": filling_type,\n",
    "                }\n",
    "mt5.order_send(request)"
   ]
  },
  {
   "attachments": {},
   "cell_type": "markdown",
   "metadata": {},
   "source": [
    "Sell Order"
   ]
  },
  {
   "cell_type": "code",
   "execution_count": 36,
   "metadata": {},
   "outputs": [],
   "source": [
    "lot = 0.01\n",
    "symbol = \"EURUSD\"\n",
    "\n",
    "point = mt5.symbol_info(symbol).point\n",
    "\n",
    "deviation = 10\n",
    "\n",
    "filling_type = mt5.symbol_info(symbol).filling_mode\n",
    "\n",
    "request = {\n",
    "                    \"action\": mt5.TRADE_ACTION_DEAL,\n",
    "                    \"symbol\": symbol,\n",
    "                    \"volume\": lot,\n",
    "                    \"type\": mt5.ORDER_TYPE_SELL,\n",
    "\n",
    "                    ###Focus on this price #########\n",
    "                    \"price\": mt5.symbol_info_tick(symbol).bid,\n",
    "                        \n",
    "                    \"sl\": mt5.symbol_info_tick(symbol).bid + 100 * point,\n",
    "                    \"tp\": mt5.symbol_info_tick(symbol).bid - 100 * point,\n",
    "                    \"deviation\": deviation,\n",
    "                    # \"magic\": magic,\n",
    "                    # \"comment\": comment,\n",
    "                    \"type_time\": mt5.ORDER_TIME_GTC,\n",
    "                    \"type_filling\": filling_type,\n",
    "                }\n",
    "\n",
    "\n",
    "result = mt5.order_send(request)\n"
   ]
  },
  {
   "attachments": {},
   "cell_type": "markdown",
   "metadata": {},
   "source": [
    "FINDING STOP LOSS AND TAKE PROFIT LEVEL FOR A SPECIFIC RISK PERCENTAGE "
   ]
  },
  {
   "cell_type": "code",
   "execution_count": 37,
   "metadata": {},
   "outputs": [],
   "source": [
    "def risk_reward_threshold(symbol,buy=True,risk=0.01,reward=0.02):\n",
    "    #Extract the leverage\n",
    "    leverage = mt5.account_info().leverage\n",
    "    #Compute the price\n",
    "    price = (mt5.symbol_info(symbol).ask + mt5.symbol_info(symbol).bid) / 2 \n",
    "    #Extract the no of decimals\n",
    "    dec_no = str(price)[::-1].find(\".\")\n",
    "    #Compute the variations in percentage\n",
    "    var_down =  risk/leverage\n",
    "    var_up = reward/leverage\n",
    "  \n",
    "    #Find the tp and sl threshold in absolute price\n",
    "\n",
    "    if buy:\n",
    "        price = mt5.symbol_info(symbol).ask\n",
    "        \n",
    "        #Compute the variations in absolute price\n",
    "        price_var_down = var_down*price\n",
    "        price_var_up = var_up*price\n",
    "\n",
    "\n",
    "        tp = np.round(price + price_var_up, dec_no)\n",
    "        sl = np.round(price - price_var_down, dec_no)\n",
    "    else:\n",
    "        price = mt5.symbol_info(symbol).bid\n",
    "\n",
    "        #Compute the variations in absolute price\n",
    "        price_var_down = var_down*price\n",
    "        price_var_up = var_up*price\n",
    "\n",
    "        tp = np.round(price - price_var_up, dec_no)\n",
    "        sl = np.round(price + price_var_down, dec_no)\n",
    "    \n",
    "    print((f\"PRICE:{price}\\tTake Profit: {tp} \\tStop loss: {sl}\"))"
   ]
  },
  {
   "cell_type": "code",
   "execution_count": 38,
   "metadata": {},
   "outputs": [
    {
     "name": "stdout",
     "output_type": "stream",
     "text": [
      "PRICE:1.08708\tTake Profit: 1.0873 \tStop loss: 1.08697\n"
     ]
    }
   ],
   "source": [
    "risk_reward_threshold(\"EURUSD\",buy=True)"
   ]
  },
  {
   "attachments": {},
   "cell_type": "markdown",
   "metadata": {},
   "source": [
    "FINDING VOLUME DEPENDING ON CAPITAL"
   ]
  },
  {
   "cell_type": "code",
   "execution_count": 39,
   "metadata": {},
   "outputs": [],
   "source": [
    "def position_size(capital,symbol):\n",
    "    mt5.initialize()\n",
    "    print(f\"INVESTED CAPITAL: {capital}\")\n",
    "\n",
    "    leverage = mt5.account_info().leverage\n",
    "    print(f\"ACCOUNT LEVERAGE: {leverage}\")\n",
    "\n",
    "    invested_capital = capital * leverage\n",
    "    print(f\"INVESTED CAPITAL LEVERAGED: {invested_capital}\")\n",
    "\n",
    "    trade_size = mt5.symbol_info(symbol).trade_contract_size\n",
    "    print(f\"TRADE SIZE: {trade_size}\")\n",
    "\n",
    "    price = (mt5.symbol_info(symbol).ask + mt5.symbol_info(symbol).bid)/2\n",
    "    print(f\"PRICE: {price}\")\n",
    "\n",
    "    lot_size = invested_capital/trade_size/price\n",
    "    print(f\"LOT SIZE: {lot_size}\")\n",
    "\n",
    "    min_lot = mt5.symbol_info(symbol).volume_min\n",
    "    print(f\"MIN LOT: {min_lot}\")\n",
    "\n",
    "    max_lot = mt5.symbol_info(symbol).volume_max\n",
    "    print(f\"MAX LOT: {max_lot}\")\n",
    "\n",
    "    if min_lot < lot_size:\n",
    "        number_decimal = str(min_lot)[::-1].find(\".\")\n",
    "        print(f\"NUMBER DECIMAL: {number_decimal}\")\n",
    "\n",
    "        if number_decimal > 0:\n",
    "            lot_size_rounded = np.round(lot_size,number_decimal)\n",
    "            print(f\"LOT SIZE ROUNDED: {lot_size_rounded}\")\n",
    "\n",
    "            if lot_size < lot_size_rounded:\n",
    "                lot_size_rounded = np.round(lot_size_rounded - min_lot,number_decimal)\n",
    "                print(f\"LOT SIZE ROUNDED: {lot_size_rounded}\")\n",
    "        \n",
    "        else:\n",
    "            number_size_lot =  len(str(min_lot))\n",
    "\n",
    "            lot_size_rounded = int(np.round(lot_size,-number_size_lot))\n",
    "\n",
    "            if lot_size < lot_size_rounded:\n",
    "                lot_size_rounded = int(np.round(lot_size_rounded - number_size_lot, - number_size_lot))\n",
    "        \n",
    "        if lot_size_rounded > max_lot:\n",
    "            lot_size_rounded = max_lot\n",
    "\n",
    "        print(f\"GOOD SIZE LOT: {lot_size_rounded}\")\n",
    "        return lot_size_rounded\n",
    "    else:\n",
    "        print('Invested Capital is too small to make an order')"
   ]
  },
  {
   "cell_type": "code",
   "execution_count": 40,
   "metadata": {},
   "outputs": [
    {
     "name": "stdout",
     "output_type": "stream",
     "text": [
      "INVESTED CAPITAL: 100000\n",
      "ACCOUNT LEVERAGE: 100\n",
      "INVESTED CAPITAL LEVERAGED: 10000000\n",
      "TRADE SIZE: 100000.0\n",
      "PRICE: 1.08708\n",
      "LOT SIZE: 91.98954998712146\n",
      "MIN LOT: 0.01\n",
      "MAX LOT: 500.0\n",
      "NUMBER DECIMAL: 2\n",
      "LOT SIZE ROUNDED: 91.99\n",
      "LOT SIZE ROUNDED: 91.98\n",
      "GOOD SIZE LOT: 91.98\n"
     ]
    },
    {
     "data": {
      "text/plain": [
       "91.98"
      ]
     },
     "execution_count": 40,
     "metadata": {},
     "output_type": "execute_result"
    }
   ],
   "source": [
    "position_size(100000,\"EURUSD\")"
   ]
  },
  {
   "cell_type": "markdown",
   "metadata": {},
   "source": [
    "ADVANCED ORDER PLACING"
   ]
  },
  {
   "cell_type": "markdown",
   "metadata": {},
   "source": [
    "Place a pending buy /sell/limit/stop order\n",
    "https://www.metatrader5.com/en/mobile-trading/iphone/help/trade/general_concept/order_types"
   ]
  },
  {
   "cell_type": "code",
   "execution_count": null,
   "metadata": {},
   "outputs": [],
   "source": [
    "#Set Symbol\n",
    "symbol = \"EURUSD\"\n",
    "\n",
    "#Set filling mode\n",
    "filling_type = mt5.symbol_info(symbol).filling_mode\n",
    "\n",
    "#Set the point\n",
    "point = mt5.symbol_info(symbol).point"
   ]
  },
  {
   "cell_type": "code",
   "execution_count": null,
   "metadata": {},
   "outputs": [],
   "source": [
    "#SELL LIMIT\n",
    "request = {\n",
    "                    \"action\": mt5.TRADE_ACTION_PENDING,\n",
    "                    \"symbol\": symbol,\n",
    "                    \"volume\": 1.0,\n",
    "                    \"type\": mt5.ORDER_TYPE_SELL_LIMIT,\n",
    "                    #THIS IS NOT CURRENT PRICE THIS IS SELL LIMIT PRICE SAYING MAYBE AT THE CURRENT PRICE +100 EXECUTE THE TRADE\n",
    "                    \"price\": mt5.symbol_info_tick(symbol).bid+100*point,\n",
    "                    \"type_time\": mt5.ORDER_TIME_GTC,\n",
    "                    \"type_filling\": filling_type\n",
    "                }\n",
    "info_order = mt5.order_send(request)\n",
    "info_order"
   ]
  },
  {
   "cell_type": "code",
   "execution_count": null,
   "metadata": {},
   "outputs": [],
   "source": [
    "#REMOVE PENDING ORDER\n",
    "request = {\n",
    "            \"action\": mt5.TRADE_ACTION_REMOVE,\n",
    "            \"order\": info_order.order,\n",
    "}\n",
    "\n",
    "mt5.order_send(request)"
   ]
  },
  {
   "cell_type": "code",
   "execution_count": null,
   "metadata": {},
   "outputs": [],
   "source": [
    "#CHANGE TP/SL\n",
    "request = {\n",
    "    \"action\":mt5.TRADE_ACTION_SLTP,\n",
    "    \"symbol\":symbol,\n",
    "    \"position\":5138399,\n",
    "    \"volume\":1.0,\n",
    "    \"type\":mt5.ORDER_TYPE_BUY,\n",
    "    \"price\":1.10457,\n",
    "    \"deviation\":deviation,\n",
    "    #point is a pip\n",
    "    \"sl\":mt5.symbol_info_tick(symbol).ask-1000*point,\n",
    "    \"tp\":mt5.symbol_info_tick(symbol).ask+1000*point,\n",
    "    \"type_filling\":filling_type,\n",
    "    \"type_time\":mt5.ORDER_TIME_GTC\n",
    "}\n",
    "\n",
    "mt5.order_send(request)"
   ]
  }
 ],
 "metadata": {
  "kernelspec": {
   "display_name": "Python 3",
   "language": "python",
   "name": "python3"
  },
  "language_info": {
   "codemirror_mode": {
    "name": "ipython",
    "version": 3
   },
   "file_extension": ".py",
   "mimetype": "text/x-python",
   "name": "python",
   "nbconvert_exporter": "python",
   "pygments_lexer": "ipython3",
   "version": "3.11.4"
  },
  "orig_nbformat": 4
 },
 "nbformat": 4,
 "nbformat_minor": 2
}
