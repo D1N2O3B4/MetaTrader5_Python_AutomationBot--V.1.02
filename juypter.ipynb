{
 "cells": [
  {
   "cell_type": "code",
   "execution_count": 1,
   "metadata": {},
   "outputs": [],
   "source": [
    "import MetaTrader5 as mt5\n",
    "from datetime import datetime\n",
    "import pandas as pd\n",
    "import pytz"
   ]
  },
  {
   "cell_type": "code",
   "execution_count": 2,
   "metadata": {},
   "outputs": [
    {
     "data": {
      "text/plain": [
       "(0, '')"
      ]
     },
     "execution_count": 2,
     "metadata": {},
     "output_type": "execute_result"
    }
   ],
   "source": [
    "mt5.last_error()\n"
   ]
  },
  {
   "cell_type": "code",
   "execution_count": 3,
   "metadata": {},
   "outputs": [
    {
     "data": {
      "text/plain": [
       "True"
      ]
     },
     "execution_count": 3,
     "metadata": {},
     "output_type": "execute_result"
    }
   ],
   "source": [
    "mt5.initialize()"
   ]
  },
  {
   "attachments": {},
   "cell_type": "markdown",
   "metadata": {},
   "source": [
    "EXTRACT ACCOUNT INFO"
   ]
  },
  {
   "cell_type": "code",
   "execution_count": 4,
   "metadata": {},
   "outputs": [
    {
     "data": {
      "text/plain": [
       "AccountInfo(login=68704070, trade_mode=0, leverage=100, limit_orders=200, margin_so_mode=0, trade_allowed=True, trade_expert=True, margin_mode=2, currency_digits=2, fifo_close=False, balance=99998.74, credit=0.0, profit=0.0, equity=99998.74, margin=0.0, margin_free=99998.74, margin_level=0.0, margin_so_call=50.0, margin_so_so=30.0, margin_initial=0.0, margin_maintenance=0.0, assets=0.0, liabilities=0.0, commission_blocked=0.0, name='David Coleman', server='MetaQuotes-Demo', currency='USD', company='MetaQuotes Software Corp.')"
      ]
     },
     "execution_count": 4,
     "metadata": {},
     "output_type": "execute_result"
    }
   ],
   "source": [
    "# mt5.shutdown()\n",
    "mt5.account_info()"
   ]
  },
  {
   "cell_type": "code",
   "execution_count": 5,
   "metadata": {},
   "outputs": [
    {
     "data": {
      "text/plain": [
       "99998.74"
      ]
     },
     "execution_count": 5,
     "metadata": {},
     "output_type": "execute_result"
    }
   ],
   "source": [
    "info = mt5.account_info()\n",
    "info.balance"
   ]
  },
  {
   "attachments": {},
   "cell_type": "markdown",
   "metadata": {},
   "source": [
    "EXTRACT SYMBOL INFO"
   ]
  },
  {
   "cell_type": "code",
   "execution_count": 6,
   "metadata": {},
   "outputs": [
    {
     "data": {
      "text/plain": [
       "SymbolInfo(custom=False, chart_mode=0, select=True, visible=True, session_deals=0, session_buy_orders=0, session_sell_orders=0, volume=0, volumehigh=0, volumelow=0, time=1682050229, digits=5, spread=0, spread_float=True, ticks_bookdepth=10, trade_calc_mode=0, trade_mode=4, start_time=0, expiration_time=0, trade_stops_level=0, trade_freeze_level=0, trade_exemode=1, swap_mode=1, swap_rollover3days=3, margin_hedged_use_leg=False, expiration_mode=15, filling_mode=1, order_mode=127, order_gtc_mode=0, option_mode=0, option_right=0, bid=1.09723, bidhigh=1.09726, bidlow=1.09618, ask=1.09723, askhigh=1.09759, asklow=1.09619, last=0.0, lasthigh=0.0, lastlow=0.0, volume_real=0.0, volumehigh_real=0.0, volumelow_real=0.0, option_strike=0.0, point=1e-05, trade_tick_value=1.0, trade_tick_value_profit=1.0, trade_tick_value_loss=1.0, trade_tick_size=1e-05, trade_contract_size=100000.0, trade_accrued_interest=0.0, trade_face_value=0.0, trade_liquidity_rate=0.0, volume_min=0.01, volume_max=500.0, volume_step=0.01, volume_limit=0.0, swap_long=-0.7, swap_short=-1.0, margin_initial=0.0, margin_maintenance=0.0, session_volume=0.0, session_turnover=0.0, session_interest=0.0, session_buy_orders_volume=0.0, session_sell_orders_volume=0.0, session_open=1.09646, session_close=1.09698, session_aw=0.0, session_price_settlement=0.0, session_price_limit_min=0.0, session_price_limit_max=0.0, margin_hedged=100000.0, price_change=0.0228, price_volatility=0.0, price_theoretical=0.0, price_greeks_delta=0.0, price_greeks_theta=0.0, price_greeks_gamma=0.0, price_greeks_vega=0.0, price_greeks_rho=0.0, price_greeks_omega=0.0, price_sensitivity=0.0, basis='', category='', currency_base='EUR', currency_profit='USD', currency_margin='EUR', bank='', description='Euro vs US Dollar', exchange='', formula='', isin='', name='EURUSD', page='http://www.google.com/finance?q=EURUSD', path='Forex\\\\EURUSD')"
      ]
     },
     "execution_count": 6,
     "metadata": {},
     "output_type": "execute_result"
    }
   ],
   "source": [
    "\"\"\"\"SYMBOL INFO\"\"\"\n",
    "mt5.symbol_info(\"EURUSD\")\n"
   ]
  },
  {
   "cell_type": "code",
   "execution_count": 7,
   "metadata": {},
   "outputs": [
    {
     "data": {
      "text/plain": [
       "1.09722"
      ]
     },
     "execution_count": 7,
     "metadata": {},
     "output_type": "execute_result"
    }
   ],
   "source": [
    "symbol = mt5.symbol_info(\"EURUSD\")\n",
    "symbol.bid\n"
   ]
  },
  {
   "cell_type": "code",
   "execution_count": 8,
   "metadata": {},
   "outputs": [
    {
     "data": {
      "text/plain": [
       "1.09723"
      ]
     },
     "execution_count": 8,
     "metadata": {},
     "output_type": "execute_result"
    }
   ],
   "source": [
    "symbol.ask"
   ]
  },
  {
   "cell_type": "code",
   "execution_count": 9,
   "metadata": {},
   "outputs": [
    {
     "data": {
      "text/plain": [
       "1"
      ]
     },
     "execution_count": 9,
     "metadata": {},
     "output_type": "execute_result"
    }
   ],
   "source": [
    "symbol.spread"
   ]
  },
  {
   "attachments": {},
   "cell_type": "markdown",
   "metadata": {},
   "source": [
    "EXTRACT BOOK ORDERS"
   ]
  },
  {
   "cell_type": "code",
   "execution_count": 10,
   "metadata": {},
   "outputs": [
    {
     "data": {
      "text/plain": [
       "True"
      ]
     },
     "execution_count": 10,
     "metadata": {},
     "output_type": "execute_result"
    }
   ],
   "source": [
    "# To add a book order\n",
    "mt5.market_book_add(\"EURUSD\")"
   ]
  },
  {
   "cell_type": "code",
   "execution_count": 11,
   "metadata": {},
   "outputs": [
    {
     "data": {
      "text/plain": [
       "()"
      ]
     },
     "execution_count": 11,
     "metadata": {},
     "output_type": "execute_result"
    }
   ],
   "source": [
    "#To get a book order\n",
    "mt5.market_book_get(\"EURUSD\")"
   ]
  },
  {
   "cell_type": "code",
   "execution_count": 12,
   "metadata": {},
   "outputs": [
    {
     "data": {
      "text/plain": [
       "True"
      ]
     },
     "execution_count": 12,
     "metadata": {},
     "output_type": "execute_result"
    }
   ],
   "source": [
    "#To close book order connection\n",
    "mt5.market_book_release(\"EURUSD\")"
   ]
  },
  {
   "attachments": {},
   "cell_type": "markdown",
   "metadata": {},
   "source": [
    "ADD SYMBOL(e.g:\"EURUSD,USDJPY etc\") TO MARKET WATCH"
   ]
  },
  {
   "cell_type": "code",
   "execution_count": 13,
   "metadata": {},
   "outputs": [
    {
     "data": {
      "text/plain": [
       "True"
      ]
     },
     "execution_count": 13,
     "metadata": {},
     "output_type": "execute_result"
    }
   ],
   "source": [
    "#Add symbol to market watch\n",
    "mt5.symbol_select(\"SP500m\")\n"
   ]
  },
  {
   "attachments": {},
   "cell_type": "markdown",
   "metadata": {},
   "source": [
    "IMPORT TICK DATA"
   ]
  },
  {
   "cell_type": "code",
   "execution_count": 14,
   "metadata": {},
   "outputs": [
    {
     "data": {
      "text/plain": [
       "True"
      ]
     },
     "execution_count": 14,
     "metadata": {},
     "output_type": "execute_result"
    }
   ],
   "source": [
    "#I think we would have to intialize the function again\n",
    "mt5.initialize()"
   ]
  },
  {
   "cell_type": "code",
   "execution_count": 15,
   "metadata": {},
   "outputs": [
    {
     "data": {
      "text/html": [
       "<div>\n",
       "<style scoped>\n",
       "    .dataframe tbody tr th:only-of-type {\n",
       "        vertical-align: middle;\n",
       "    }\n",
       "\n",
       "    .dataframe tbody tr th {\n",
       "        vertical-align: top;\n",
       "    }\n",
       "\n",
       "    .dataframe thead th {\n",
       "        text-align: right;\n",
       "    }\n",
       "</style>\n",
       "<table border=\"1\" class=\"dataframe\">\n",
       "  <thead>\n",
       "    <tr style=\"text-align: right;\">\n",
       "      <th></th>\n",
       "      <th>time</th>\n",
       "      <th>bid</th>\n",
       "      <th>ask</th>\n",
       "      <th>last</th>\n",
       "      <th>volume</th>\n",
       "      <th>time_msc</th>\n",
       "      <th>flags</th>\n",
       "      <th>volume_real</th>\n",
       "    </tr>\n",
       "  </thead>\n",
       "  <tbody>\n",
       "    <tr>\n",
       "      <th>0</th>\n",
       "      <td>2023-01-02 07:02:24</td>\n",
       "      <td>1.07016</td>\n",
       "      <td>1.07025</td>\n",
       "      <td>0.0</td>\n",
       "      <td>0</td>\n",
       "      <td>1672642944663</td>\n",
       "      <td>134</td>\n",
       "      <td>0.0</td>\n",
       "    </tr>\n",
       "    <tr>\n",
       "      <th>1</th>\n",
       "      <td>2023-01-02 07:02:24</td>\n",
       "      <td>1.07017</td>\n",
       "      <td>1.07024</td>\n",
       "      <td>0.0</td>\n",
       "      <td>0</td>\n",
       "      <td>1672642944663</td>\n",
       "      <td>134</td>\n",
       "      <td>0.0</td>\n",
       "    </tr>\n",
       "    <tr>\n",
       "      <th>2</th>\n",
       "      <td>2023-01-02 07:05:00</td>\n",
       "      <td>1.07015</td>\n",
       "      <td>1.07022</td>\n",
       "      <td>0.0</td>\n",
       "      <td>0</td>\n",
       "      <td>1672643100854</td>\n",
       "      <td>134</td>\n",
       "      <td>0.0</td>\n",
       "    </tr>\n",
       "    <tr>\n",
       "      <th>3</th>\n",
       "      <td>2023-01-02 07:06:09</td>\n",
       "      <td>1.07014</td>\n",
       "      <td>1.07021</td>\n",
       "      <td>0.0</td>\n",
       "      <td>0</td>\n",
       "      <td>1672643169798</td>\n",
       "      <td>134</td>\n",
       "      <td>0.0</td>\n",
       "    </tr>\n",
       "    <tr>\n",
       "      <th>4</th>\n",
       "      <td>2023-01-02 07:08:05</td>\n",
       "      <td>1.06986</td>\n",
       "      <td>1.06993</td>\n",
       "      <td>0.0</td>\n",
       "      <td>0</td>\n",
       "      <td>1672643285561</td>\n",
       "      <td>134</td>\n",
       "      <td>0.0</td>\n",
       "    </tr>\n",
       "    <tr>\n",
       "      <th>5</th>\n",
       "      <td>2023-01-02 07:08:05</td>\n",
       "      <td>1.06976</td>\n",
       "      <td>1.06983</td>\n",
       "      <td>0.0</td>\n",
       "      <td>0</td>\n",
       "      <td>1672643285618</td>\n",
       "      <td>134</td>\n",
       "      <td>0.0</td>\n",
       "    </tr>\n",
       "    <tr>\n",
       "      <th>6</th>\n",
       "      <td>2023-01-02 07:08:05</td>\n",
       "      <td>1.06975</td>\n",
       "      <td>1.06982</td>\n",
       "      <td>0.0</td>\n",
       "      <td>0</td>\n",
       "      <td>1672643285700</td>\n",
       "      <td>134</td>\n",
       "      <td>0.0</td>\n",
       "    </tr>\n",
       "    <tr>\n",
       "      <th>7</th>\n",
       "      <td>2023-01-02 07:08:05</td>\n",
       "      <td>1.06969</td>\n",
       "      <td>1.06976</td>\n",
       "      <td>0.0</td>\n",
       "      <td>0</td>\n",
       "      <td>1672643285700</td>\n",
       "      <td>134</td>\n",
       "      <td>0.0</td>\n",
       "    </tr>\n",
       "    <tr>\n",
       "      <th>8</th>\n",
       "      <td>2023-01-02 07:08:06</td>\n",
       "      <td>1.06967</td>\n",
       "      <td>1.06974</td>\n",
       "      <td>0.0</td>\n",
       "      <td>0</td>\n",
       "      <td>1672643286407</td>\n",
       "      <td>134</td>\n",
       "      <td>0.0</td>\n",
       "    </tr>\n",
       "    <tr>\n",
       "      <th>9</th>\n",
       "      <td>2023-01-02 07:08:06</td>\n",
       "      <td>1.06956</td>\n",
       "      <td>1.06963</td>\n",
       "      <td>0.0</td>\n",
       "      <td>0</td>\n",
       "      <td>1672643286766</td>\n",
       "      <td>134</td>\n",
       "      <td>0.0</td>\n",
       "    </tr>\n",
       "  </tbody>\n",
       "</table>\n",
       "</div>"
      ],
      "text/plain": [
       "                 time      bid      ask  last  volume       time_msc  flags   \n",
       "0 2023-01-02 07:02:24  1.07016  1.07025   0.0       0  1672642944663    134  \\\n",
       "1 2023-01-02 07:02:24  1.07017  1.07024   0.0       0  1672642944663    134   \n",
       "2 2023-01-02 07:05:00  1.07015  1.07022   0.0       0  1672643100854    134   \n",
       "3 2023-01-02 07:06:09  1.07014  1.07021   0.0       0  1672643169798    134   \n",
       "4 2023-01-02 07:08:05  1.06986  1.06993   0.0       0  1672643285561    134   \n",
       "5 2023-01-02 07:08:05  1.06976  1.06983   0.0       0  1672643285618    134   \n",
       "6 2023-01-02 07:08:05  1.06975  1.06982   0.0       0  1672643285700    134   \n",
       "7 2023-01-02 07:08:05  1.06969  1.06976   0.0       0  1672643285700    134   \n",
       "8 2023-01-02 07:08:06  1.06967  1.06974   0.0       0  1672643286407    134   \n",
       "9 2023-01-02 07:08:06  1.06956  1.06963   0.0       0  1672643286766    134   \n",
       "\n",
       "   volume_real  \n",
       "0          0.0  \n",
       "1          0.0  \n",
       "2          0.0  \n",
       "3          0.0  \n",
       "4          0.0  \n",
       "5          0.0  \n",
       "6          0.0  \n",
       "7          0.0  \n",
       "8          0.0  \n",
       "9          0.0  "
      ]
     },
     "execution_count": 15,
     "metadata": {},
     "output_type": "execute_result"
    }
   ],
   "source": [
    "#Now we import the ticks from a specfic date\n",
    "#Calculate now date\n",
    "from_date = datetime(2023,1,1)\n",
    "\n",
    "\n",
    "#Extract n ticks before now\n",
    "ticks = mt5.copy_ticks_from(\"EURUSD\",from_date,10,mt5.COPY_TICKS_ALL)\n",
    "\n",
    "df_ticks = pd.DataFrame(ticks)\n",
    "df_ticks[\"time\"] = pd.to_datetime(df_ticks[\"time\"],unit=\"s\")\n",
    "df_ticks\n"
   ]
  },
  {
   "attachments": {},
   "cell_type": "markdown",
   "metadata": {},
   "source": [
    "IMPORT TICKS RANGES"
   ]
  },
  {
   "cell_type": "code",
   "execution_count": 16,
   "metadata": {},
   "outputs": [
    {
     "data": {
      "text/html": [
       "<div>\n",
       "<style scoped>\n",
       "    .dataframe tbody tr th:only-of-type {\n",
       "        vertical-align: middle;\n",
       "    }\n",
       "\n",
       "    .dataframe tbody tr th {\n",
       "        vertical-align: top;\n",
       "    }\n",
       "\n",
       "    .dataframe thead th {\n",
       "        text-align: right;\n",
       "    }\n",
       "</style>\n",
       "<table border=\"1\" class=\"dataframe\">\n",
       "  <thead>\n",
       "    <tr style=\"text-align: right;\">\n",
       "      <th></th>\n",
       "      <th>time</th>\n",
       "      <th>bid</th>\n",
       "      <th>ask</th>\n",
       "      <th>last</th>\n",
       "      <th>volume</th>\n",
       "      <th>time_msc</th>\n",
       "      <th>flags</th>\n",
       "      <th>volume_real</th>\n",
       "    </tr>\n",
       "  </thead>\n",
       "  <tbody>\n",
       "    <tr>\n",
       "      <th>0</th>\n",
       "      <td>2022-01-05 00:00:00</td>\n",
       "      <td>1.12852</td>\n",
       "      <td>1.12883</td>\n",
       "      <td>0.0</td>\n",
       "      <td>0</td>\n",
       "      <td>1641340800114</td>\n",
       "      <td>134</td>\n",
       "      <td>0.0</td>\n",
       "    </tr>\n",
       "    <tr>\n",
       "      <th>1</th>\n",
       "      <td>2022-01-05 00:00:00</td>\n",
       "      <td>1.12845</td>\n",
       "      <td>1.12897</td>\n",
       "      <td>0.0</td>\n",
       "      <td>0</td>\n",
       "      <td>1641340800443</td>\n",
       "      <td>134</td>\n",
       "      <td>0.0</td>\n",
       "    </tr>\n",
       "    <tr>\n",
       "      <th>2</th>\n",
       "      <td>2022-01-05 00:00:01</td>\n",
       "      <td>1.12845</td>\n",
       "      <td>1.12898</td>\n",
       "      <td>0.0</td>\n",
       "      <td>0</td>\n",
       "      <td>1641340801966</td>\n",
       "      <td>4</td>\n",
       "      <td>0.0</td>\n",
       "    </tr>\n",
       "    <tr>\n",
       "      <th>3</th>\n",
       "      <td>2022-01-05 00:00:02</td>\n",
       "      <td>1.12830</td>\n",
       "      <td>1.12895</td>\n",
       "      <td>0.0</td>\n",
       "      <td>0</td>\n",
       "      <td>1641340802012</td>\n",
       "      <td>134</td>\n",
       "      <td>0.0</td>\n",
       "    </tr>\n",
       "    <tr>\n",
       "      <th>4</th>\n",
       "      <td>2022-01-05 00:00:06</td>\n",
       "      <td>1.12831</td>\n",
       "      <td>1.12896</td>\n",
       "      <td>0.0</td>\n",
       "      <td>0</td>\n",
       "      <td>1641340806341</td>\n",
       "      <td>134</td>\n",
       "      <td>0.0</td>\n",
       "    </tr>\n",
       "    <tr>\n",
       "      <th>...</th>\n",
       "      <td>...</td>\n",
       "      <td>...</td>\n",
       "      <td>...</td>\n",
       "      <td>...</td>\n",
       "      <td>...</td>\n",
       "      <td>...</td>\n",
       "      <td>...</td>\n",
       "      <td>...</td>\n",
       "    </tr>\n",
       "    <tr>\n",
       "      <th>62581</th>\n",
       "      <td>2022-01-05 23:59:59</td>\n",
       "      <td>1.13136</td>\n",
       "      <td>1.13151</td>\n",
       "      <td>0.0</td>\n",
       "      <td>0</td>\n",
       "      <td>1641427199344</td>\n",
       "      <td>134</td>\n",
       "      <td>0.0</td>\n",
       "    </tr>\n",
       "    <tr>\n",
       "      <th>62582</th>\n",
       "      <td>2022-01-05 23:59:59</td>\n",
       "      <td>1.13134</td>\n",
       "      <td>1.13149</td>\n",
       "      <td>0.0</td>\n",
       "      <td>0</td>\n",
       "      <td>1641427199617</td>\n",
       "      <td>134</td>\n",
       "      <td>0.0</td>\n",
       "    </tr>\n",
       "    <tr>\n",
       "      <th>62583</th>\n",
       "      <td>2022-01-05 23:59:59</td>\n",
       "      <td>1.13133</td>\n",
       "      <td>1.13148</td>\n",
       "      <td>0.0</td>\n",
       "      <td>0</td>\n",
       "      <td>1641427199663</td>\n",
       "      <td>134</td>\n",
       "      <td>0.0</td>\n",
       "    </tr>\n",
       "    <tr>\n",
       "      <th>62584</th>\n",
       "      <td>2022-01-05 23:59:59</td>\n",
       "      <td>1.13134</td>\n",
       "      <td>1.13149</td>\n",
       "      <td>0.0</td>\n",
       "      <td>0</td>\n",
       "      <td>1641427199767</td>\n",
       "      <td>134</td>\n",
       "      <td>0.0</td>\n",
       "    </tr>\n",
       "    <tr>\n",
       "      <th>62585</th>\n",
       "      <td>2022-01-05 23:59:59</td>\n",
       "      <td>1.13135</td>\n",
       "      <td>1.13150</td>\n",
       "      <td>0.0</td>\n",
       "      <td>0</td>\n",
       "      <td>1641427199867</td>\n",
       "      <td>134</td>\n",
       "      <td>0.0</td>\n",
       "    </tr>\n",
       "  </tbody>\n",
       "</table>\n",
       "<p>62586 rows × 8 columns</p>\n",
       "</div>"
      ],
      "text/plain": [
       "                     time      bid      ask  last  volume       time_msc   \n",
       "0     2022-01-05 00:00:00  1.12852  1.12883   0.0       0  1641340800114  \\\n",
       "1     2022-01-05 00:00:00  1.12845  1.12897   0.0       0  1641340800443   \n",
       "2     2022-01-05 00:00:01  1.12845  1.12898   0.0       0  1641340801966   \n",
       "3     2022-01-05 00:00:02  1.12830  1.12895   0.0       0  1641340802012   \n",
       "4     2022-01-05 00:00:06  1.12831  1.12896   0.0       0  1641340806341   \n",
       "...                   ...      ...      ...   ...     ...            ...   \n",
       "62581 2022-01-05 23:59:59  1.13136  1.13151   0.0       0  1641427199344   \n",
       "62582 2022-01-05 23:59:59  1.13134  1.13149   0.0       0  1641427199617   \n",
       "62583 2022-01-05 23:59:59  1.13133  1.13148   0.0       0  1641427199663   \n",
       "62584 2022-01-05 23:59:59  1.13134  1.13149   0.0       0  1641427199767   \n",
       "62585 2022-01-05 23:59:59  1.13135  1.13150   0.0       0  1641427199867   \n",
       "\n",
       "       flags  volume_real  \n",
       "0        134          0.0  \n",
       "1        134          0.0  \n",
       "2          4          0.0  \n",
       "3        134          0.0  \n",
       "4        134          0.0  \n",
       "...      ...          ...  \n",
       "62581    134          0.0  \n",
       "62582    134          0.0  \n",
       "62583    134          0.0  \n",
       "62584    134          0.0  \n",
       "62585    134          0.0  \n",
       "\n",
       "[62586 rows x 8 columns]"
      ]
     },
     "execution_count": 16,
     "metadata": {},
     "output_type": "execute_result"
    }
   ],
   "source": [
    "#Compute now date\n",
    "from_date = datetime(2022,1,5)\n",
    "to_date = datetime(2022,1,6)\n",
    "\n",
    "# #Extract n Ticks before now\n",
    "ticks = mt5.copy_ticks_range(\"EURUSD\",from_date,to_date,mt5.COPY_TICKS_ALL)\n",
    "# # #Transform Tuple into a Dataframe\n",
    "df_ticks = pd.DataFrame(ticks)\n",
    "\n",
    "# # # #Change time format\n",
    "df_ticks[\"time\"] = pd.to_datetime(df_ticks[\"time\"],unit=\"s\")\n",
    "df_ticks"
   ]
  },
  {
   "cell_type": "markdown",
   "metadata": {},
   "source": [
    "IMPORT RATES DATA"
   ]
  },
  {
   "cell_type": "code",
   "execution_count": 17,
   "metadata": {},
   "outputs": [
    {
     "data": {
      "text/html": [
       "<div>\n",
       "<style scoped>\n",
       "    .dataframe tbody tr th:only-of-type {\n",
       "        vertical-align: middle;\n",
       "    }\n",
       "\n",
       "    .dataframe tbody tr th {\n",
       "        vertical-align: top;\n",
       "    }\n",
       "\n",
       "    .dataframe thead th {\n",
       "        text-align: right;\n",
       "    }\n",
       "</style>\n",
       "<table border=\"1\" class=\"dataframe\">\n",
       "  <thead>\n",
       "    <tr style=\"text-align: right;\">\n",
       "      <th></th>\n",
       "      <th>time</th>\n",
       "      <th>open</th>\n",
       "      <th>high</th>\n",
       "      <th>low</th>\n",
       "      <th>close</th>\n",
       "      <th>tick_volume</th>\n",
       "      <th>spread</th>\n",
       "      <th>real_volume</th>\n",
       "    </tr>\n",
       "  </thead>\n",
       "  <tbody>\n",
       "    <tr>\n",
       "      <th>0</th>\n",
       "      <td>2023-03-24</td>\n",
       "      <td>1.08320</td>\n",
       "      <td>1.08384</td>\n",
       "      <td>1.07124</td>\n",
       "      <td>1.07601</td>\n",
       "      <td>107212</td>\n",
       "      <td>0</td>\n",
       "      <td>0</td>\n",
       "    </tr>\n",
       "    <tr>\n",
       "      <th>1</th>\n",
       "      <td>2023-03-27</td>\n",
       "      <td>1.07706</td>\n",
       "      <td>1.08001</td>\n",
       "      <td>1.07451</td>\n",
       "      <td>1.07977</td>\n",
       "      <td>73682</td>\n",
       "      <td>0</td>\n",
       "      <td>0</td>\n",
       "    </tr>\n",
       "    <tr>\n",
       "      <th>2</th>\n",
       "      <td>2023-03-28</td>\n",
       "      <td>1.07974</td>\n",
       "      <td>1.08486</td>\n",
       "      <td>1.07934</td>\n",
       "      <td>1.08444</td>\n",
       "      <td>65412</td>\n",
       "      <td>0</td>\n",
       "      <td>0</td>\n",
       "    </tr>\n",
       "    <tr>\n",
       "      <th>3</th>\n",
       "      <td>2023-03-29</td>\n",
       "      <td>1.08454</td>\n",
       "      <td>1.08717</td>\n",
       "      <td>1.08178</td>\n",
       "      <td>1.08444</td>\n",
       "      <td>69762</td>\n",
       "      <td>0</td>\n",
       "      <td>0</td>\n",
       "    </tr>\n",
       "    <tr>\n",
       "      <th>4</th>\n",
       "      <td>2023-03-30</td>\n",
       "      <td>1.08432</td>\n",
       "      <td>1.09263</td>\n",
       "      <td>1.08237</td>\n",
       "      <td>1.09050</td>\n",
       "      <td>70017</td>\n",
       "      <td>0</td>\n",
       "      <td>0</td>\n",
       "    </tr>\n",
       "    <tr>\n",
       "      <th>5</th>\n",
       "      <td>2023-03-31</td>\n",
       "      <td>1.09044</td>\n",
       "      <td>1.09257</td>\n",
       "      <td>1.08363</td>\n",
       "      <td>1.08429</td>\n",
       "      <td>71293</td>\n",
       "      <td>0</td>\n",
       "      <td>0</td>\n",
       "    </tr>\n",
       "    <tr>\n",
       "      <th>6</th>\n",
       "      <td>2023-04-03</td>\n",
       "      <td>1.08398</td>\n",
       "      <td>1.09167</td>\n",
       "      <td>1.07882</td>\n",
       "      <td>1.09031</td>\n",
       "      <td>78371</td>\n",
       "      <td>0</td>\n",
       "      <td>0</td>\n",
       "    </tr>\n",
       "    <tr>\n",
       "      <th>7</th>\n",
       "      <td>2023-04-04</td>\n",
       "      <td>1.09015</td>\n",
       "      <td>1.09733</td>\n",
       "      <td>1.08830</td>\n",
       "      <td>1.09560</td>\n",
       "      <td>73385</td>\n",
       "      <td>0</td>\n",
       "      <td>0</td>\n",
       "    </tr>\n",
       "    <tr>\n",
       "      <th>8</th>\n",
       "      <td>2023-04-05</td>\n",
       "      <td>1.09547</td>\n",
       "      <td>1.09696</td>\n",
       "      <td>1.08911</td>\n",
       "      <td>1.09056</td>\n",
       "      <td>68562</td>\n",
       "      <td>0</td>\n",
       "      <td>0</td>\n",
       "    </tr>\n",
       "    <tr>\n",
       "      <th>9</th>\n",
       "      <td>2023-04-06</td>\n",
       "      <td>1.09063</td>\n",
       "      <td>1.09377</td>\n",
       "      <td>1.08846</td>\n",
       "      <td>1.09192</td>\n",
       "      <td>55836</td>\n",
       "      <td>0</td>\n",
       "      <td>0</td>\n",
       "    </tr>\n",
       "    <tr>\n",
       "      <th>10</th>\n",
       "      <td>2023-04-07</td>\n",
       "      <td>1.09198</td>\n",
       "      <td>1.09240</td>\n",
       "      <td>1.08757</td>\n",
       "      <td>1.08984</td>\n",
       "      <td>23716</td>\n",
       "      <td>0</td>\n",
       "      <td>0</td>\n",
       "    </tr>\n",
       "    <tr>\n",
       "      <th>11</th>\n",
       "      <td>2023-04-10</td>\n",
       "      <td>1.08953</td>\n",
       "      <td>1.09173</td>\n",
       "      <td>1.08313</td>\n",
       "      <td>1.08613</td>\n",
       "      <td>45051</td>\n",
       "      <td>0</td>\n",
       "      <td>0</td>\n",
       "    </tr>\n",
       "    <tr>\n",
       "      <th>12</th>\n",
       "      <td>2023-04-11</td>\n",
       "      <td>1.08599</td>\n",
       "      <td>1.09282</td>\n",
       "      <td>1.08458</td>\n",
       "      <td>1.09131</td>\n",
       "      <td>58069</td>\n",
       "      <td>0</td>\n",
       "      <td>0</td>\n",
       "    </tr>\n",
       "    <tr>\n",
       "      <th>13</th>\n",
       "      <td>2023-04-12</td>\n",
       "      <td>1.09122</td>\n",
       "      <td>1.10004</td>\n",
       "      <td>1.09060</td>\n",
       "      <td>1.09914</td>\n",
       "      <td>61907</td>\n",
       "      <td>0</td>\n",
       "      <td>0</td>\n",
       "    </tr>\n",
       "    <tr>\n",
       "      <th>14</th>\n",
       "      <td>2023-04-13</td>\n",
       "      <td>1.09903</td>\n",
       "      <td>1.10678</td>\n",
       "      <td>1.09766</td>\n",
       "      <td>1.10473</td>\n",
       "      <td>58269</td>\n",
       "      <td>0</td>\n",
       "      <td>0</td>\n",
       "    </tr>\n",
       "    <tr>\n",
       "      <th>15</th>\n",
       "      <td>2023-04-14</td>\n",
       "      <td>1.10462</td>\n",
       "      <td>1.10759</td>\n",
       "      <td>1.09724</td>\n",
       "      <td>1.09946</td>\n",
       "      <td>67756</td>\n",
       "      <td>0</td>\n",
       "      <td>0</td>\n",
       "    </tr>\n",
       "    <tr>\n",
       "      <th>16</th>\n",
       "      <td>2023-04-17</td>\n",
       "      <td>1.09886</td>\n",
       "      <td>1.09998</td>\n",
       "      <td>1.09093</td>\n",
       "      <td>1.09287</td>\n",
       "      <td>59290</td>\n",
       "      <td>0</td>\n",
       "      <td>0</td>\n",
       "    </tr>\n",
       "    <tr>\n",
       "      <th>17</th>\n",
       "      <td>2023-04-18</td>\n",
       "      <td>1.09269</td>\n",
       "      <td>1.09830</td>\n",
       "      <td>1.09202</td>\n",
       "      <td>1.09723</td>\n",
       "      <td>55761</td>\n",
       "      <td>0</td>\n",
       "      <td>0</td>\n",
       "    </tr>\n",
       "    <tr>\n",
       "      <th>18</th>\n",
       "      <td>2023-04-19</td>\n",
       "      <td>1.09728</td>\n",
       "      <td>1.09840</td>\n",
       "      <td>1.09174</td>\n",
       "      <td>1.09558</td>\n",
       "      <td>61815</td>\n",
       "      <td>0</td>\n",
       "      <td>0</td>\n",
       "    </tr>\n",
       "    <tr>\n",
       "      <th>19</th>\n",
       "      <td>2023-04-20</td>\n",
       "      <td>1.09545</td>\n",
       "      <td>1.09898</td>\n",
       "      <td>1.09335</td>\n",
       "      <td>1.09698</td>\n",
       "      <td>61734</td>\n",
       "      <td>0</td>\n",
       "      <td>0</td>\n",
       "    </tr>\n",
       "    <tr>\n",
       "      <th>20</th>\n",
       "      <td>2023-04-21</td>\n",
       "      <td>1.09698</td>\n",
       "      <td>1.09726</td>\n",
       "      <td>1.09618</td>\n",
       "      <td>1.09722</td>\n",
       "      <td>3355</td>\n",
       "      <td>0</td>\n",
       "      <td>0</td>\n",
       "    </tr>\n",
       "  </tbody>\n",
       "</table>\n",
       "</div>"
      ],
      "text/plain": [
       "         time     open     high      low    close  tick_volume  spread   \n",
       "0  2023-03-24  1.08320  1.08384  1.07124  1.07601       107212       0  \\\n",
       "1  2023-03-27  1.07706  1.08001  1.07451  1.07977        73682       0   \n",
       "2  2023-03-28  1.07974  1.08486  1.07934  1.08444        65412       0   \n",
       "3  2023-03-29  1.08454  1.08717  1.08178  1.08444        69762       0   \n",
       "4  2023-03-30  1.08432  1.09263  1.08237  1.09050        70017       0   \n",
       "5  2023-03-31  1.09044  1.09257  1.08363  1.08429        71293       0   \n",
       "6  2023-04-03  1.08398  1.09167  1.07882  1.09031        78371       0   \n",
       "7  2023-04-04  1.09015  1.09733  1.08830  1.09560        73385       0   \n",
       "8  2023-04-05  1.09547  1.09696  1.08911  1.09056        68562       0   \n",
       "9  2023-04-06  1.09063  1.09377  1.08846  1.09192        55836       0   \n",
       "10 2023-04-07  1.09198  1.09240  1.08757  1.08984        23716       0   \n",
       "11 2023-04-10  1.08953  1.09173  1.08313  1.08613        45051       0   \n",
       "12 2023-04-11  1.08599  1.09282  1.08458  1.09131        58069       0   \n",
       "13 2023-04-12  1.09122  1.10004  1.09060  1.09914        61907       0   \n",
       "14 2023-04-13  1.09903  1.10678  1.09766  1.10473        58269       0   \n",
       "15 2023-04-14  1.10462  1.10759  1.09724  1.09946        67756       0   \n",
       "16 2023-04-17  1.09886  1.09998  1.09093  1.09287        59290       0   \n",
       "17 2023-04-18  1.09269  1.09830  1.09202  1.09723        55761       0   \n",
       "18 2023-04-19  1.09728  1.09840  1.09174  1.09558        61815       0   \n",
       "19 2023-04-20  1.09545  1.09898  1.09335  1.09698        61734       0   \n",
       "20 2023-04-21  1.09698  1.09726  1.09618  1.09722         3355       0   \n",
       "\n",
       "    real_volume  \n",
       "0             0  \n",
       "1             0  \n",
       "2             0  \n",
       "3             0  \n",
       "4             0  \n",
       "5             0  \n",
       "6             0  \n",
       "7             0  \n",
       "8             0  \n",
       "9             0  \n",
       "10            0  \n",
       "11            0  \n",
       "12            0  \n",
       "13            0  \n",
       "14            0  \n",
       "15            0  \n",
       "16            0  \n",
       "17            0  \n",
       "18            0  \n",
       "19            0  \n",
       "20            0  "
      ]
     },
     "execution_count": 17,
     "metadata": {},
     "output_type": "execute_result"
    }
   ],
   "source": [
    "#Compute now date\n",
    "from_date = datetime.now()\n",
    "\n",
    "#Extract n Ticks before now\n",
    "rates = mt5.copy_rates_from(\"EURUSD\",mt5.TIMEFRAME_D1,from_date,21)\n",
    "\n",
    "#Transform tuple to df\n",
    "df_rates = pd.DataFrame(rates)\n",
    "\n",
    "#Convert time format\n",
    "df_rates[\"time\"] = pd.to_datetime(df_rates['time'],unit='s')\n",
    "\n",
    "df_rates"
   ]
  },
  {
   "attachments": {},
   "cell_type": "markdown",
   "metadata": {},
   "source": [
    "CHAPTER 03: SEND ORDERS"
   ]
  },
  {
   "cell_type": "code",
   "execution_count": 18,
   "metadata": {},
   "outputs": [
    {
     "data": {
      "text/plain": [
       "OrderCheckResult(retcode=0, balance=99998.74, equity=99998.74, profit=0.0, margin=109.72, margin_free=99889.02, margin_level=91139.93802406125, comment='Done', request=TradeRequest(action=1, magic=0, order=0, symbol='EURUSD', volume=0.1, price=1.09722, stoplimit=0.0, sl=0.0, tp=0.0, deviation=10, type=0, type_filling=1, type_time=0, expiration=0, comment='python script open', position=0, position_by=0))"
      ]
     },
     "execution_count": 18,
     "metadata": {},
     "output_type": "execute_result"
    }
   ],
   "source": [
    "#Choose the symbol\n",
    "symbol = \"EURUSD\"\n",
    "\n",
    "#Choose the lot\n",
    "lot = 0.1\n",
    "\n",
    "#Choose the deviation\n",
    "deviation = 10\n",
    "\n",
    "#Find the filling mode of the symbol given\n",
    "filling_type = mt5.symbol_info(symbol).filling_mode\n",
    "\n",
    "request = {\n",
    "    \"action\": mt5.TRADE_ACTION_DEAL,\n",
    "    \"symbol\": symbol,\n",
    "    \"volume\": lot,\n",
    "    \"type\": mt5.ORDER_TYPE_BUY,\n",
    "\n",
    "         ###Focus on this price #########\n",
    "    \"price\": mt5.symbol_info_tick(symbol).ask,\n",
    "    \n",
    "    # \"sl\": price - 100 * point,\n",
    "    # \"tp\": price + 100 * point,\n",
    "    \"deviation\": deviation,\n",
    "    # \"magic\": 234000,\n",
    "    \"comment\": \"python script open\",\n",
    "    \"type_time\": mt5.ORDER_TIME_GTC,\n",
    "    \"type_filling\": filling_type,\n",
    "}\n",
    "\n",
    "mt5.order_check(request)"
   ]
  },
  {
   "attachments": {},
   "cell_type": "markdown",
   "metadata": {},
   "source": [
    "CREATE BUY ORDER "
   ]
  },
  {
   "cell_type": "code",
   "execution_count": 19,
   "metadata": {},
   "outputs": [
    {
     "data": {
      "text/plain": [
       "OrderSendResult(retcode=10009, deal=1651478517, order=1673835607, volume=0.1, price=1.09722, bid=1.09721, ask=1.09722, comment='Request executed', request_id=2617151224, retcode_external=0, request=TradeRequest(action=1, magic=0, order=0, symbol='EURUSD', volume=0.1, price=1.09722, stoplimit=0.0, sl=0.0, tp=0.0, deviation=10, type=0, type_filling=1, type_time=0, expiration=0, comment='python script open', position=0, position_by=0))"
      ]
     },
     "execution_count": 19,
     "metadata": {},
     "output_type": "execute_result"
    }
   ],
   "source": [
    "request = {\n",
    "    \"action\": mt5.TRADE_ACTION_DEAL,\n",
    "    \"symbol\": symbol,\n",
    "    \"volume\": lot,\n",
    "    \"type\": mt5.ORDER_TYPE_BUY,\n",
    "\n",
    "         ###Focus on this price #########\n",
    "    \"price\": mt5.symbol_info_tick(symbol).ask,\n",
    "    \n",
    "    # \"sl\": price - 100 * point,\n",
    "    # \"tp\": price + 100 * point,\n",
    "    \"deviation\": deviation,\n",
    "    # \"magic\": 234000,\n",
    "    \"comment\": \"python script open\",\n",
    "    \"type_time\": mt5.ORDER_TIME_GTC,\n",
    "    \"type_filling\": filling_type,\n",
    "}\n",
    "\n",
    "mt5.order_send(request)"
   ]
  },
  {
   "attachments": {},
   "cell_type": "markdown",
   "metadata": {},
   "source": [
    "CLOSE A BUY ORDER"
   ]
  },
  {
   "cell_type": "code",
   "execution_count": 20,
   "metadata": {},
   "outputs": [
    {
     "data": {
      "text/plain": [
       "OrderSendResult(retcode=10013, deal=0, order=0, volume=0.0, price=0.0, bid=0.0, ask=0.0, comment='Invalid request', request_id=0, retcode_external=0, request=TradeRequest(action=1, magic=0, order=0, symbol='EURUSD', volume=0.1, price=1.09721, stoplimit=0.0, sl=0.0, tp=0.0, deviation=10, type=1, type_filling=1, type_time=0, expiration=0, comment='python script open', position=1671609612, position_by=0))"
      ]
     },
     "execution_count": 20,
     "metadata": {},
     "output_type": "execute_result"
    }
   ],
   "source": [
    "request = {\n",
    "    \"action\": mt5.TRADE_ACTION_DEAL,\n",
    "    \"symbol\": symbol,\n",
    "    \"volume\": lot,\n",
    "     ###change order type to the opposite \n",
    "    \"type\": mt5.ORDER_TYPE_SELL,\n",
    "\n",
    "         ###Focus on this price we change it to the opposite ask/bid#########\n",
    "    \"price\": mt5.symbol_info_tick(symbol).bid,\n",
    "###position numbers is from order in the returned values of CREATE BUY ORDER#####\n",
    "    \"position\":1671609612,\n",
    "    \n",
    "    # \"sl\": price - 100 * point,\n",
    "    # \"tp\": price + 100 * point,\n",
    "    \"deviation\": deviation,\n",
    "    # \"magic\": 234000,\n",
    "    \"comment\": \"python script open\",\n",
    "    \"type_time\": mt5.ORDER_TIME_GTC,\n",
    "    \"type_filling\": filling_type,\n",
    "}\n",
    "\n",
    "mt5.order_send(request)"
   ]
  },
  {
   "attachments": {},
   "cell_type": "markdown",
   "metadata": {},
   "source": [
    "CREATE A SELL ORDER"
   ]
  },
  {
   "cell_type": "code",
   "execution_count": 21,
   "metadata": {},
   "outputs": [
    {
     "data": {
      "text/plain": [
       "OrderSendResult(retcode=10009, deal=1651478518, order=1673835608, volume=0.1, price=1.09721, bid=1.09721, ask=1.09722, comment='Request executed', request_id=2617151225, retcode_external=0, request=TradeRequest(action=1, magic=0, order=0, symbol='EURUSD', volume=0.1, price=1.09721, stoplimit=0.0, sl=0.0, tp=0.0, deviation=10, type=1, type_filling=1, type_time=0, expiration=0, comment='python script open', position=0, position_by=0))"
      ]
     },
     "execution_count": 21,
     "metadata": {},
     "output_type": "execute_result"
    }
   ],
   "source": [
    "request = {\n",
    "    \"action\": mt5.TRADE_ACTION_DEAL,\n",
    "    \"symbol\": symbol,\n",
    "    \"volume\": lot,\n",
    "    \"type\": mt5.ORDER_TYPE_SELL,\n",
    "\n",
    "         ###Focus on this price #########\n",
    "    \"price\": mt5.symbol_info_tick(symbol).bid,\n",
    "    \n",
    "    # \"sl\": price - 100 * point,\n",
    "    # \"tp\": price + 100 * point,\n",
    "    \"deviation\": deviation,\n",
    "    # \"magic\": 234000,\n",
    "    \"comment\": \"python script open\",\n",
    "    \"type_time\": mt5.ORDER_TIME_GTC,\n",
    "    \"type_filling\": filling_type,\n",
    "}\n",
    "\n",
    "mt5.order_send(request)"
   ]
  },
  {
   "attachments": {},
   "cell_type": "markdown",
   "metadata": {},
   "source": [
    "CLOSE SELL ORDER"
   ]
  },
  {
   "cell_type": "code",
   "execution_count": 22,
   "metadata": {},
   "outputs": [
    {
     "data": {
      "text/plain": [
       "OrderSendResult(retcode=10013, deal=0, order=0, volume=0.0, price=0.0, bid=0.0, ask=0.0, comment='Invalid request', request_id=0, retcode_external=0, request=TradeRequest(action=1, magic=0, order=0, symbol='EURUSD', volume=0.1, price=1.09722, stoplimit=0.0, sl=0.0, tp=0.0, deviation=10, type=0, type_filling=1, type_time=0, expiration=0, comment='python script open', position=1671532959, position_by=0))"
      ]
     },
     "execution_count": 22,
     "metadata": {},
     "output_type": "execute_result"
    }
   ],
   "source": [
    "request = {\n",
    "    \"action\": mt5.TRADE_ACTION_DEAL,\n",
    "    \"symbol\": symbol,\n",
    "    \"volume\": lot,\n",
    "    ###change order type to the opposite \n",
    "    \"type\": mt5.ORDER_TYPE_BUY,\n",
    "\n",
    "         ###Focus on this price we change it to the opposite ask/bid#########\n",
    "    \"price\": mt5.symbol_info_tick(symbol).ask,\n",
    "    ###position numbers is from order in the returned values of CREATE BUY ORDER#####\n",
    "    \"position\":1671532959,\n",
    "    \n",
    "    # \"sl\": price - 100 * point,\n",
    "    # \"tp\": price + 100 * point,\n",
    "    \"deviation\": deviation,\n",
    "    # \"magic\": 234000,\n",
    "    \"comment\": \"python script open\",\n",
    "    \"type_time\": mt5.ORDER_TIME_GTC,\n",
    "    \"type_filling\": filling_type,\n",
    "}\n",
    "\n",
    "mt5.order_send(request)"
   ]
  },
  {
   "attachments": {},
   "cell_type": "markdown",
   "metadata": {},
   "source": [
    "AUTOMATE BUY SELL ORDER CREATION AND CLOSING"
   ]
  },
  {
   "cell_type": "code",
   "execution_count": 23,
   "metadata": {},
   "outputs": [],
   "source": [
    "def send_order(symbol,lot,buy,sell,id_position = None, comment = \"No specific comment\",magic=0,deviation=10):\n",
    "    #Intialize connection between python and mt5\n",
    "    mt5.initialize()\n",
    "\n",
    "    #Extract filling_mode\n",
    "    filling_type = mt5.symbol_info(symbol).filling_mode\n",
    "\n",
    "    \"\"\"OPEN A TRADE\"\"\"  \n",
    "    if buy and id_position == None:\n",
    "        request = {\n",
    "                    \"action\": mt5.TRADE_ACTION_DEAL,\n",
    "                    \"symbol\": symbol,\n",
    "                    \"volume\": lot,\n",
    "                    \"type\": mt5.ORDER_TYPE_BUY,\n",
    "\n",
    "                        ###Focus on this price #########\n",
    "                    \"price\": mt5.symbol_info_tick(symbol).ask,\n",
    "                    \n",
    "                    # \"sl\": price - 100 * point,\n",
    "                    # \"tp\": price + 100 * point,\n",
    "                    \"deviation\": deviation,\n",
    "                    \"magic\":magic,\n",
    "                    \"comment\": comment,\n",
    "                    \"type_time\": mt5.ORDER_TIME_GTC,\n",
    "                    \"type_filling\": filling_type,\n",
    "                }\n",
    "        result = mt5.order_send(request)\n",
    "        return result\n",
    "    \n",
    "    if sell and id_position == None:\n",
    "        request = {\n",
    "                    \"action\": mt5.TRADE_ACTION_DEAL,\n",
    "                    \"symbol\": symbol,\n",
    "                    \"volume\": lot,\n",
    "                    \"type\": mt5.ORDER_TYPE_SELL,\n",
    "\n",
    "                    ###Focus on this price #########\n",
    "                    \"price\": mt5.symbol_info_tick(symbol).bid,\n",
    "                        \n",
    "                    # \"sl\": price - 100 * point,\n",
    "                    # \"tp\": price + 100 * point,\n",
    "                    \"deviation\": deviation,\n",
    "                    \"magic\": magic,\n",
    "                    \"comment\": comment,\n",
    "                    \"type_time\": mt5.ORDER_TIME_GTC,\n",
    "                    \"type_filling\": filling_type,\n",
    "                }\n",
    "\n",
    "        result = mt5.order_send(request)\n",
    "        return result\n",
    "    \n",
    "    \"\"\"CLOSE ORDER\"\"\"\n",
    "    \n",
    "    if buy and id_position != None:\n",
    "        request = {\n",
    "                    \"action\": mt5.TRADE_ACTION_DEAL,\n",
    "                    \"symbol\": symbol,\n",
    "                    \"volume\": lot,\n",
    "                    ###change order type to the opposite \n",
    "                    \"type\": mt5.ORDER_TYPE_SELL,\n",
    "\n",
    "                        ###Focus on this price we change it to the opposite ask/bid#########\n",
    "                    \"price\": mt5.symbol_info_tick(symbol).bid,\n",
    "                    ###position numbers is from order in the returned values of CREATE BUY ORDER#####\n",
    "                    \"position\":id_position,\n",
    "                    \n",
    "                    # \"sl\": price - 100 * point,\n",
    "                    # \"tp\": price + 100 * point,\n",
    "                    \"deviation\": deviation,\n",
    "                    \"magic\": magic,\n",
    "                    \"comment\": \"python script open\",\n",
    "                    \"type_time\": mt5.ORDER_TIME_GTC,\n",
    "                    \"type_filling\": filling_type,\n",
    "                }\n",
    "\n",
    "        result = mt5.order_send(request)\n",
    "        return result\n",
    "    \n",
    "    if sell and id_position != None:\n",
    "        request = {\n",
    "                    \"action\": mt5.TRADE_ACTION_DEAL,\n",
    "                    \"symbol\": symbol,\n",
    "                    \"volume\": lot,\n",
    "                    ###change order type to the opposite \n",
    "                    \"type\": mt5.ORDER_TYPE_BUY,\n",
    "\n",
    "                        ###Focus on this price we change it to the opposite ask/bid#########\n",
    "                    \"price\": mt5.symbol_info_tick(symbol).ask,\n",
    "                    ###position numbers is from order in the returned values of CREATE BUY ORDER#####\n",
    "                    \"position\":id_position,\n",
    "                    \n",
    "                    # \"sl\": price - 100 * point,\n",
    "                    # \"tp\": price + 100 * point,\n",
    "                    \"deviation\": deviation,\n",
    "                    \"magic\": magic,\n",
    "                    \"comment\": \"python script open\",\n",
    "                    \"type_time\": mt5.ORDER_TIME_GTC,\n",
    "                    \"type_filling\": filling_type,\n",
    "                }\n",
    "\n",
    "        result = mt5.order_send(request)\n",
    "        return result\n",
    "    \n",
    "    \n"
   ]
  },
  {
   "attachments": {},
   "cell_type": "markdown",
   "metadata": {},
   "source": [
    "EXECUTING A BUY/SELL ORDER"
   ]
  },
  {
   "cell_type": "code",
   "execution_count": 24,
   "metadata": {},
   "outputs": [],
   "source": [
    "order_open = send_order(\"EURUSD\",0.01,True,False)"
   ]
  },
  {
   "attachments": {},
   "cell_type": "markdown",
   "metadata": {},
   "source": [
    "CLOSING A BUY/SELL ORDER"
   ]
  },
  {
   "cell_type": "code",
   "execution_count": 25,
   "metadata": {},
   "outputs": [],
   "source": [
    "order_close = send_order(\"EURUSD\",0.01,True,False,id_position=order_open.order)"
   ]
  },
  {
   "attachments": {},
   "cell_type": "markdown",
   "metadata": {},
   "source": [
    "CREATE ORDER WITH TP AND SL"
   ]
  },
  {
   "attachments": {},
   "cell_type": "markdown",
   "metadata": {},
   "source": [
    "Buy Order"
   ]
  },
  {
   "cell_type": "code",
   "execution_count": 35,
   "metadata": {},
   "outputs": [
    {
     "data": {
      "text/plain": [
       "OrderSendResult(retcode=10009, deal=1651512229, order=1673878384, volume=0.01, price=1.09676, bid=1.0967500000000001, ask=1.09676, comment='Request executed', request_id=2617151232, retcode_external=0, request=TradeRequest(action=1, magic=0, order=0, symbol='EURUSD', volume=0.01, price=1.09676, stoplimit=0.0, sl=1.09666, tp=1.0977599999999998, deviation=10, type=0, type_filling=1, type_time=0, expiration=0, comment='', position=0, position_by=0))"
      ]
     },
     "execution_count": 35,
     "metadata": {},
     "output_type": "execute_result"
    }
   ],
   "source": [
    "lot = 0.01\n",
    "symbol = \"EURUSD\"\n",
    "\n",
    "point = mt5.symbol_info(symbol).point\n",
    "\n",
    "deviation = 10\n",
    "\n",
    "filling_type = mt5.symbol_info(symbol).filling_mode\n",
    "\n",
    "request = {\n",
    "                    \"action\": mt5.TRADE_ACTION_DEAL,\n",
    "                    \"symbol\": symbol,\n",
    "                    \"volume\": lot,\n",
    "                    \"type\": mt5.ORDER_TYPE_BUY,\n",
    "\n",
    "                        ###Focus on this price #########\n",
    "                    \"price\": mt5.symbol_info_tick(symbol).ask,\n",
    "\n",
    "                    ###10 is for one pip difference in the code below \n",
    "                    \"sl\": mt5.symbol_info_tick(symbol).ask - 10 * point,\n",
    "                    \"tp\": mt5.symbol_info_tick(symbol).ask + 100 * point,\n",
    "                    \"deviation\": deviation,\n",
    "                    # \"magic\":magic,\n",
    "                    # \"comment\": comment,\n",
    "                    \"type_time\": mt5.ORDER_TIME_GTC,\n",
    "                    \"type_filling\": filling_type,\n",
    "                }\n",
    "mt5.order_send(request)"
   ]
  },
  {
   "attachments": {},
   "cell_type": "markdown",
   "metadata": {},
   "source": [
    "Sell Order"
   ]
  },
  {
   "cell_type": "code",
   "execution_count": 33,
   "metadata": {},
   "outputs": [],
   "source": [
    "lot = 0.01\n",
    "symbol = \"EURUSD\"\n",
    "\n",
    "point = mt5.symbol_info(symbol).point\n",
    "\n",
    "deviation = 10\n",
    "\n",
    "filling_type = mt5.symbol_info(symbol).filling_mode\n",
    "\n",
    "request = {\n",
    "                    \"action\": mt5.TRADE_ACTION_DEAL,\n",
    "                    \"symbol\": symbol,\n",
    "                    \"volume\": lot,\n",
    "                    \"type\": mt5.ORDER_TYPE_SELL,\n",
    "\n",
    "                    ###Focus on this price #########\n",
    "                    \"price\": mt5.symbol_info_tick(symbol).bid,\n",
    "                        \n",
    "                    \"sl\": mt5.symbol_info_tick(symbol).bid + 100 * point,\n",
    "                    \"tp\": mt5.symbol_info_tick(symbol).bid - 100 * point,\n",
    "                    \"deviation\": deviation,\n",
    "                    # \"magic\": magic,\n",
    "                    # \"comment\": comment,\n",
    "                    \"type_time\": mt5.ORDER_TIME_GTC,\n",
    "                    \"type_filling\": filling_type,\n",
    "                }\n",
    "\n",
    "\n",
    "result = mt5.order_send(request)\n"
   ]
  }
 ],
 "metadata": {
  "kernelspec": {
   "display_name": "Python 3",
   "language": "python",
   "name": "python3"
  },
  "language_info": {
   "codemirror_mode": {
    "name": "ipython",
    "version": 3
   },
   "file_extension": ".py",
   "mimetype": "text/x-python",
   "name": "python",
   "nbconvert_exporter": "python",
   "pygments_lexer": "ipython3",
   "version": "3.11.3"
  },
  "orig_nbformat": 4
 },
 "nbformat": 4,
 "nbformat_minor": 2
}
